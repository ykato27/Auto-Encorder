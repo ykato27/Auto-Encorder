{
 "nbformat": 4,
 "nbformat_minor": 0,
 "metadata": {
  "colab": {
   "name": "VAE-Pytorch.ipynb",
   "provenance": [],
   "collapsed_sections": [],
   "authorship_tag": "ABX9TyNWEq8LABeUvlxl/oSZ5xnE",
   "include_colab_link": true
  },
  "kernelspec": {
   "name": "python3",
   "display_name": "Python 3"
  },
  "language_info": {
   "name": "python"
  },
  "accelerator": "GPU",
  "widgets": {
   "application/vnd.jupyter.widget-state+json": {
    "d8535ac528984c6ab16ecac0fd0083be": {
     "model_module": "@jupyter-widgets/controls",
     "model_name": "HBoxModel",
     "state": {
      "_view_name": "HBoxView",
      "_dom_classes": [],
      "_model_name": "HBoxModel",
      "_view_module": "@jupyter-widgets/controls",
      "_model_module_version": "1.5.0",
      "_view_count": null,
      "_view_module_version": "1.5.0",
      "box_style": "",
      "layout": "IPY_MODEL_cf426e41e7b8430795be7550bf8778ec",
      "_model_module": "@jupyter-widgets/controls",
      "children": [
       "IPY_MODEL_51a305095bd74f85afc25f26d90c7b80",
       "IPY_MODEL_4074c7e550c84bc8ad203ec62f7355c9"
      ]
     }
    },
    "cf426e41e7b8430795be7550bf8778ec": {
     "model_module": "@jupyter-widgets/base",
     "model_name": "LayoutModel",
     "state": {
      "_view_name": "LayoutView",
      "grid_template_rows": null,
      "right": null,
      "justify_content": null,
      "_view_module": "@jupyter-widgets/base",
      "overflow": null,
      "_model_module_version": "1.2.0",
      "_view_count": null,
      "flex_flow": null,
      "width": null,
      "min_width": null,
      "border": null,
      "align_items": null,
      "bottom": null,
      "_model_module": "@jupyter-widgets/base",
      "top": null,
      "grid_column": null,
      "overflow_y": null,
      "overflow_x": null,
      "grid_auto_flow": null,
      "grid_area": null,
      "grid_template_columns": null,
      "flex": null,
      "_model_name": "LayoutModel",
      "justify_items": null,
      "grid_row": null,
      "max_height": null,
      "align_content": null,
      "visibility": null,
      "align_self": null,
      "height": null,
      "min_height": null,
      "padding": null,
      "grid_auto_rows": null,
      "grid_gap": null,
      "max_width": null,
      "order": null,
      "_view_module_version": "1.2.0",
      "grid_template_areas": null,
      "object_position": null,
      "object_fit": null,
      "grid_auto_columns": null,
      "margin": null,
      "display": null,
      "left": null
     }
    },
    "51a305095bd74f85afc25f26d90c7b80": {
     "model_module": "@jupyter-widgets/controls",
     "model_name": "FloatProgressModel",
     "state": {
      "_view_name": "ProgressView",
      "style": "IPY_MODEL_08ed20733287472db303486a90cb2edf",
      "_dom_classes": [],
      "description": "",
      "_model_name": "FloatProgressModel",
      "bar_style": "success",
      "max": 9912422,
      "_view_module": "@jupyter-widgets/controls",
      "_model_module_version": "1.5.0",
      "value": 9912422,
      "_view_count": null,
      "_view_module_version": "1.5.0",
      "orientation": "horizontal",
      "min": 0,
      "description_tooltip": null,
      "_model_module": "@jupyter-widgets/controls",
      "layout": "IPY_MODEL_f73ba6a368184e74ba27113d40bb6012"
     }
    },
    "4074c7e550c84bc8ad203ec62f7355c9": {
     "model_module": "@jupyter-widgets/controls",
     "model_name": "HTMLModel",
     "state": {
      "_view_name": "HTMLView",
      "style": "IPY_MODEL_c95a31e2f5124203b1c36b435dfe563c",
      "_dom_classes": [],
      "description": "",
      "_model_name": "HTMLModel",
      "placeholder": "​",
      "_view_module": "@jupyter-widgets/controls",
      "_model_module_version": "1.5.0",
      "value": " 9913344/? [00:16&lt;00:00, 615979.80it/s]",
      "_view_count": null,
      "_view_module_version": "1.5.0",
      "description_tooltip": null,
      "_model_module": "@jupyter-widgets/controls",
      "layout": "IPY_MODEL_361c53a7eed9408a9bc5947e9806c4af"
     }
    },
    "08ed20733287472db303486a90cb2edf": {
     "model_module": "@jupyter-widgets/controls",
     "model_name": "ProgressStyleModel",
     "state": {
      "_view_name": "StyleView",
      "_model_name": "ProgressStyleModel",
      "description_width": "initial",
      "_view_module": "@jupyter-widgets/base",
      "_model_module_version": "1.5.0",
      "_view_count": null,
      "_view_module_version": "1.2.0",
      "bar_color": null,
      "_model_module": "@jupyter-widgets/controls"
     }
    },
    "f73ba6a368184e74ba27113d40bb6012": {
     "model_module": "@jupyter-widgets/base",
     "model_name": "LayoutModel",
     "state": {
      "_view_name": "LayoutView",
      "grid_template_rows": null,
      "right": null,
      "justify_content": null,
      "_view_module": "@jupyter-widgets/base",
      "overflow": null,
      "_model_module_version": "1.2.0",
      "_view_count": null,
      "flex_flow": null,
      "width": null,
      "min_width": null,
      "border": null,
      "align_items": null,
      "bottom": null,
      "_model_module": "@jupyter-widgets/base",
      "top": null,
      "grid_column": null,
      "overflow_y": null,
      "overflow_x": null,
      "grid_auto_flow": null,
      "grid_area": null,
      "grid_template_columns": null,
      "flex": null,
      "_model_name": "LayoutModel",
      "justify_items": null,
      "grid_row": null,
      "max_height": null,
      "align_content": null,
      "visibility": null,
      "align_self": null,
      "height": null,
      "min_height": null,
      "padding": null,
      "grid_auto_rows": null,
      "grid_gap": null,
      "max_width": null,
      "order": null,
      "_view_module_version": "1.2.0",
      "grid_template_areas": null,
      "object_position": null,
      "object_fit": null,
      "grid_auto_columns": null,
      "margin": null,
      "display": null,
      "left": null
     }
    },
    "c95a31e2f5124203b1c36b435dfe563c": {
     "model_module": "@jupyter-widgets/controls",
     "model_name": "DescriptionStyleModel",
     "state": {
      "_view_name": "StyleView",
      "_model_name": "DescriptionStyleModel",
      "description_width": "",
      "_view_module": "@jupyter-widgets/base",
      "_model_module_version": "1.5.0",
      "_view_count": null,
      "_view_module_version": "1.2.0",
      "_model_module": "@jupyter-widgets/controls"
     }
    },
    "361c53a7eed9408a9bc5947e9806c4af": {
     "model_module": "@jupyter-widgets/base",
     "model_name": "LayoutModel",
     "state": {
      "_view_name": "LayoutView",
      "grid_template_rows": null,
      "right": null,
      "justify_content": null,
      "_view_module": "@jupyter-widgets/base",
      "overflow": null,
      "_model_module_version": "1.2.0",
      "_view_count": null,
      "flex_flow": null,
      "width": null,
      "min_width": null,
      "border": null,
      "align_items": null,
      "bottom": null,
      "_model_module": "@jupyter-widgets/base",
      "top": null,
      "grid_column": null,
      "overflow_y": null,
      "overflow_x": null,
      "grid_auto_flow": null,
      "grid_area": null,
      "grid_template_columns": null,
      "flex": null,
      "_model_name": "LayoutModel",
      "justify_items": null,
      "grid_row": null,
      "max_height": null,
      "align_content": null,
      "visibility": null,
      "align_self": null,
      "height": null,
      "min_height": null,
      "padding": null,
      "grid_auto_rows": null,
      "grid_gap": null,
      "max_width": null,
      "order": null,
      "_view_module_version": "1.2.0",
      "grid_template_areas": null,
      "object_position": null,
      "object_fit": null,
      "grid_auto_columns": null,
      "margin": null,
      "display": null,
      "left": null
     }
    },
    "f2afa0e3bc9e4cb881b86fee8c055987": {
     "model_module": "@jupyter-widgets/controls",
     "model_name": "HBoxModel",
     "state": {
      "_view_name": "HBoxView",
      "_dom_classes": [],
      "_model_name": "HBoxModel",
      "_view_module": "@jupyter-widgets/controls",
      "_model_module_version": "1.5.0",
      "_view_count": null,
      "_view_module_version": "1.5.0",
      "box_style": "",
      "layout": "IPY_MODEL_12340ca13cb641a088a3b9c9e7cb4202",
      "_model_module": "@jupyter-widgets/controls",
      "children": [
       "IPY_MODEL_b8c448e6583d400a9056f8efed43c33e",
       "IPY_MODEL_0d58e68047de4f16a70e892757d723f1"
      ]
     }
    },
    "12340ca13cb641a088a3b9c9e7cb4202": {
     "model_module": "@jupyter-widgets/base",
     "model_name": "LayoutModel",
     "state": {
      "_view_name": "LayoutView",
      "grid_template_rows": null,
      "right": null,
      "justify_content": null,
      "_view_module": "@jupyter-widgets/base",
      "overflow": null,
      "_model_module_version": "1.2.0",
      "_view_count": null,
      "flex_flow": null,
      "width": null,
      "min_width": null,
      "border": null,
      "align_items": null,
      "bottom": null,
      "_model_module": "@jupyter-widgets/base",
      "top": null,
      "grid_column": null,
      "overflow_y": null,
      "overflow_x": null,
      "grid_auto_flow": null,
      "grid_area": null,
      "grid_template_columns": null,
      "flex": null,
      "_model_name": "LayoutModel",
      "justify_items": null,
      "grid_row": null,
      "max_height": null,
      "align_content": null,
      "visibility": null,
      "align_self": null,
      "height": null,
      "min_height": null,
      "padding": null,
      "grid_auto_rows": null,
      "grid_gap": null,
      "max_width": null,
      "order": null,
      "_view_module_version": "1.2.0",
      "grid_template_areas": null,
      "object_position": null,
      "object_fit": null,
      "grid_auto_columns": null,
      "margin": null,
      "display": null,
      "left": null
     }
    },
    "b8c448e6583d400a9056f8efed43c33e": {
     "model_module": "@jupyter-widgets/controls",
     "model_name": "FloatProgressModel",
     "state": {
      "_view_name": "ProgressView",
      "style": "IPY_MODEL_2dcf41a345c04af29e458e969cee735c",
      "_dom_classes": [],
      "description": "",
      "_model_name": "FloatProgressModel",
      "bar_style": "success",
      "max": 28881,
      "_view_module": "@jupyter-widgets/controls",
      "_model_module_version": "1.5.0",
      "value": 28881,
      "_view_count": null,
      "_view_module_version": "1.5.0",
      "orientation": "horizontal",
      "min": 0,
      "description_tooltip": null,
      "_model_module": "@jupyter-widgets/controls",
      "layout": "IPY_MODEL_4c2f61614fba46b58c8ac5b7ad05c410"
     }
    },
    "0d58e68047de4f16a70e892757d723f1": {
     "model_module": "@jupyter-widgets/controls",
     "model_name": "HTMLModel",
     "state": {
      "_view_name": "HTMLView",
      "style": "IPY_MODEL_82f0a87c392c4008b0161aa3e1f4123e",
      "_dom_classes": [],
      "description": "",
      "_model_name": "HTMLModel",
      "placeholder": "​",
      "_view_module": "@jupyter-widgets/controls",
      "_model_module_version": "1.5.0",
      "value": " 29696/? [00:01&lt;00:00, 27159.91it/s]",
      "_view_count": null,
      "_view_module_version": "1.5.0",
      "description_tooltip": null,
      "_model_module": "@jupyter-widgets/controls",
      "layout": "IPY_MODEL_6e3933ee70db430aba856c6f6e1605cf"
     }
    },
    "2dcf41a345c04af29e458e969cee735c": {
     "model_module": "@jupyter-widgets/controls",
     "model_name": "ProgressStyleModel",
     "state": {
      "_view_name": "StyleView",
      "_model_name": "ProgressStyleModel",
      "description_width": "initial",
      "_view_module": "@jupyter-widgets/base",
      "_model_module_version": "1.5.0",
      "_view_count": null,
      "_view_module_version": "1.2.0",
      "bar_color": null,
      "_model_module": "@jupyter-widgets/controls"
     }
    },
    "4c2f61614fba46b58c8ac5b7ad05c410": {
     "model_module": "@jupyter-widgets/base",
     "model_name": "LayoutModel",
     "state": {
      "_view_name": "LayoutView",
      "grid_template_rows": null,
      "right": null,
      "justify_content": null,
      "_view_module": "@jupyter-widgets/base",
      "overflow": null,
      "_model_module_version": "1.2.0",
      "_view_count": null,
      "flex_flow": null,
      "width": null,
      "min_width": null,
      "border": null,
      "align_items": null,
      "bottom": null,
      "_model_module": "@jupyter-widgets/base",
      "top": null,
      "grid_column": null,
      "overflow_y": null,
      "overflow_x": null,
      "grid_auto_flow": null,
      "grid_area": null,
      "grid_template_columns": null,
      "flex": null,
      "_model_name": "LayoutModel",
      "justify_items": null,
      "grid_row": null,
      "max_height": null,
      "align_content": null,
      "visibility": null,
      "align_self": null,
      "height": null,
      "min_height": null,
      "padding": null,
      "grid_auto_rows": null,
      "grid_gap": null,
      "max_width": null,
      "order": null,
      "_view_module_version": "1.2.0",
      "grid_template_areas": null,
      "object_position": null,
      "object_fit": null,
      "grid_auto_columns": null,
      "margin": null,
      "display": null,
      "left": null
     }
    },
    "82f0a87c392c4008b0161aa3e1f4123e": {
     "model_module": "@jupyter-widgets/controls",
     "model_name": "DescriptionStyleModel",
     "state": {
      "_view_name": "StyleView",
      "_model_name": "DescriptionStyleModel",
      "description_width": "",
      "_view_module": "@jupyter-widgets/base",
      "_model_module_version": "1.5.0",
      "_view_count": null,
      "_view_module_version": "1.2.0",
      "_model_module": "@jupyter-widgets/controls"
     }
    },
    "6e3933ee70db430aba856c6f6e1605cf": {
     "model_module": "@jupyter-widgets/base",
     "model_name": "LayoutModel",
     "state": {
      "_view_name": "LayoutView",
      "grid_template_rows": null,
      "right": null,
      "justify_content": null,
      "_view_module": "@jupyter-widgets/base",
      "overflow": null,
      "_model_module_version": "1.2.0",
      "_view_count": null,
      "flex_flow": null,
      "width": null,
      "min_width": null,
      "border": null,
      "align_items": null,
      "bottom": null,
      "_model_module": "@jupyter-widgets/base",
      "top": null,
      "grid_column": null,
      "overflow_y": null,
      "overflow_x": null,
      "grid_auto_flow": null,
      "grid_area": null,
      "grid_template_columns": null,
      "flex": null,
      "_model_name": "LayoutModel",
      "justify_items": null,
      "grid_row": null,
      "max_height": null,
      "align_content": null,
      "visibility": null,
      "align_self": null,
      "height": null,
      "min_height": null,
      "padding": null,
      "grid_auto_rows": null,
      "grid_gap": null,
      "max_width": null,
      "order": null,
      "_view_module_version": "1.2.0",
      "grid_template_areas": null,
      "object_position": null,
      "object_fit": null,
      "grid_auto_columns": null,
      "margin": null,
      "display": null,
      "left": null
     }
    },
    "d30793796a2d46479d4ac484183f9af8": {
     "model_module": "@jupyter-widgets/controls",
     "model_name": "HBoxModel",
     "state": {
      "_view_name": "HBoxView",
      "_dom_classes": [],
      "_model_name": "HBoxModel",
      "_view_module": "@jupyter-widgets/controls",
      "_model_module_version": "1.5.0",
      "_view_count": null,
      "_view_module_version": "1.5.0",
      "box_style": "",
      "layout": "IPY_MODEL_1d8cc0c7d157422fa73104f153fb31ca",
      "_model_module": "@jupyter-widgets/controls",
      "children": [
       "IPY_MODEL_df5a5d95eca9480b9d5c052bc59fc96a",
       "IPY_MODEL_ce620d73286b4962a939a6a6fb37debc"
      ]
     }
    },
    "1d8cc0c7d157422fa73104f153fb31ca": {
     "model_module": "@jupyter-widgets/base",
     "model_name": "LayoutModel",
     "state": {
      "_view_name": "LayoutView",
      "grid_template_rows": null,
      "right": null,
      "justify_content": null,
      "_view_module": "@jupyter-widgets/base",
      "overflow": null,
      "_model_module_version": "1.2.0",
      "_view_count": null,
      "flex_flow": null,
      "width": null,
      "min_width": null,
      "border": null,
      "align_items": null,
      "bottom": null,
      "_model_module": "@jupyter-widgets/base",
      "top": null,
      "grid_column": null,
      "overflow_y": null,
      "overflow_x": null,
      "grid_auto_flow": null,
      "grid_area": null,
      "grid_template_columns": null,
      "flex": null,
      "_model_name": "LayoutModel",
      "justify_items": null,
      "grid_row": null,
      "max_height": null,
      "align_content": null,
      "visibility": null,
      "align_self": null,
      "height": null,
      "min_height": null,
      "padding": null,
      "grid_auto_rows": null,
      "grid_gap": null,
      "max_width": null,
      "order": null,
      "_view_module_version": "1.2.0",
      "grid_template_areas": null,
      "object_position": null,
      "object_fit": null,
      "grid_auto_columns": null,
      "margin": null,
      "display": null,
      "left": null
     }
    },
    "df5a5d95eca9480b9d5c052bc59fc96a": {
     "model_module": "@jupyter-widgets/controls",
     "model_name": "FloatProgressModel",
     "state": {
      "_view_name": "ProgressView",
      "style": "IPY_MODEL_734648cb20ec407b80ff76840abd594d",
      "_dom_classes": [],
      "description": "",
      "_model_name": "FloatProgressModel",
      "bar_style": "success",
      "max": 1648877,
      "_view_module": "@jupyter-widgets/controls",
      "_model_module_version": "1.5.0",
      "value": 1648877,
      "_view_count": null,
      "_view_module_version": "1.5.0",
      "orientation": "horizontal",
      "min": 0,
      "description_tooltip": null,
      "_model_module": "@jupyter-widgets/controls",
      "layout": "IPY_MODEL_f30f1a9705f34d75ba016ab2bef4a9ff"
     }
    },
    "ce620d73286b4962a939a6a6fb37debc": {
     "model_module": "@jupyter-widgets/controls",
     "model_name": "HTMLModel",
     "state": {
      "_view_name": "HTMLView",
      "style": "IPY_MODEL_20aa196b3af74f9f9f3b5119b342eda9",
      "_dom_classes": [],
      "description": "",
      "_model_name": "HTMLModel",
      "placeholder": "​",
      "_view_module": "@jupyter-widgets/controls",
      "_model_module_version": "1.5.0",
      "value": " 1649664/? [00:13&lt;00:00, 122366.37it/s]",
      "_view_count": null,
      "_view_module_version": "1.5.0",
      "description_tooltip": null,
      "_model_module": "@jupyter-widgets/controls",
      "layout": "IPY_MODEL_f3366bd2aac5463da91b9a7cc29490a9"
     }
    },
    "734648cb20ec407b80ff76840abd594d": {
     "model_module": "@jupyter-widgets/controls",
     "model_name": "ProgressStyleModel",
     "state": {
      "_view_name": "StyleView",
      "_model_name": "ProgressStyleModel",
      "description_width": "initial",
      "_view_module": "@jupyter-widgets/base",
      "_model_module_version": "1.5.0",
      "_view_count": null,
      "_view_module_version": "1.2.0",
      "bar_color": null,
      "_model_module": "@jupyter-widgets/controls"
     }
    },
    "f30f1a9705f34d75ba016ab2bef4a9ff": {
     "model_module": "@jupyter-widgets/base",
     "model_name": "LayoutModel",
     "state": {
      "_view_name": "LayoutView",
      "grid_template_rows": null,
      "right": null,
      "justify_content": null,
      "_view_module": "@jupyter-widgets/base",
      "overflow": null,
      "_model_module_version": "1.2.0",
      "_view_count": null,
      "flex_flow": null,
      "width": null,
      "min_width": null,
      "border": null,
      "align_items": null,
      "bottom": null,
      "_model_module": "@jupyter-widgets/base",
      "top": null,
      "grid_column": null,
      "overflow_y": null,
      "overflow_x": null,
      "grid_auto_flow": null,
      "grid_area": null,
      "grid_template_columns": null,
      "flex": null,
      "_model_name": "LayoutModel",
      "justify_items": null,
      "grid_row": null,
      "max_height": null,
      "align_content": null,
      "visibility": null,
      "align_self": null,
      "height": null,
      "min_height": null,
      "padding": null,
      "grid_auto_rows": null,
      "grid_gap": null,
      "max_width": null,
      "order": null,
      "_view_module_version": "1.2.0",
      "grid_template_areas": null,
      "object_position": null,
      "object_fit": null,
      "grid_auto_columns": null,
      "margin": null,
      "display": null,
      "left": null
     }
    },
    "20aa196b3af74f9f9f3b5119b342eda9": {
     "model_module": "@jupyter-widgets/controls",
     "model_name": "DescriptionStyleModel",
     "state": {
      "_view_name": "StyleView",
      "_model_name": "DescriptionStyleModel",
      "description_width": "",
      "_view_module": "@jupyter-widgets/base",
      "_model_module_version": "1.5.0",
      "_view_count": null,
      "_view_module_version": "1.2.0",
      "_model_module": "@jupyter-widgets/controls"
     }
    },
    "f3366bd2aac5463da91b9a7cc29490a9": {
     "model_module": "@jupyter-widgets/base",
     "model_name": "LayoutModel",
     "state": {
      "_view_name": "LayoutView",
      "grid_template_rows": null,
      "right": null,
      "justify_content": null,
      "_view_module": "@jupyter-widgets/base",
      "overflow": null,
      "_model_module_version": "1.2.0",
      "_view_count": null,
      "flex_flow": null,
      "width": null,
      "min_width": null,
      "border": null,
      "align_items": null,
      "bottom": null,
      "_model_module": "@jupyter-widgets/base",
      "top": null,
      "grid_column": null,
      "overflow_y": null,
      "overflow_x": null,
      "grid_auto_flow": null,
      "grid_area": null,
      "grid_template_columns": null,
      "flex": null,
      "_model_name": "LayoutModel",
      "justify_items": null,
      "grid_row": null,
      "max_height": null,
      "align_content": null,
      "visibility": null,
      "align_self": null,
      "height": null,
      "min_height": null,
      "padding": null,
      "grid_auto_rows": null,
      "grid_gap": null,
      "max_width": null,
      "order": null,
      "_view_module_version": "1.2.0",
      "grid_template_areas": null,
      "object_position": null,
      "object_fit": null,
      "grid_auto_columns": null,
      "margin": null,
      "display": null,
      "left": null
     }
    },
    "fd01bccf5c2d4989a22a5bf30a2e621f": {
     "model_module": "@jupyter-widgets/controls",
     "model_name": "HBoxModel",
     "state": {
      "_view_name": "HBoxView",
      "_dom_classes": [],
      "_model_name": "HBoxModel",
      "_view_module": "@jupyter-widgets/controls",
      "_model_module_version": "1.5.0",
      "_view_count": null,
      "_view_module_version": "1.5.0",
      "box_style": "",
      "layout": "IPY_MODEL_6b32e41322fe499a8bb9a04c9d2b64b4",
      "_model_module": "@jupyter-widgets/controls",
      "children": [
       "IPY_MODEL_a6b8b9b4252146699e063d387511ec09",
       "IPY_MODEL_0c6bc2c20182464faa1085ef5bf66198"
      ]
     }
    },
    "6b32e41322fe499a8bb9a04c9d2b64b4": {
     "model_module": "@jupyter-widgets/base",
     "model_name": "LayoutModel",
     "state": {
      "_view_name": "LayoutView",
      "grid_template_rows": null,
      "right": null,
      "justify_content": null,
      "_view_module": "@jupyter-widgets/base",
      "overflow": null,
      "_model_module_version": "1.2.0",
      "_view_count": null,
      "flex_flow": null,
      "width": null,
      "min_width": null,
      "border": null,
      "align_items": null,
      "bottom": null,
      "_model_module": "@jupyter-widgets/base",
      "top": null,
      "grid_column": null,
      "overflow_y": null,
      "overflow_x": null,
      "grid_auto_flow": null,
      "grid_area": null,
      "grid_template_columns": null,
      "flex": null,
      "_model_name": "LayoutModel",
      "justify_items": null,
      "grid_row": null,
      "max_height": null,
      "align_content": null,
      "visibility": null,
      "align_self": null,
      "height": null,
      "min_height": null,
      "padding": null,
      "grid_auto_rows": null,
      "grid_gap": null,
      "max_width": null,
      "order": null,
      "_view_module_version": "1.2.0",
      "grid_template_areas": null,
      "object_position": null,
      "object_fit": null,
      "grid_auto_columns": null,
      "margin": null,
      "display": null,
      "left": null
     }
    },
    "a6b8b9b4252146699e063d387511ec09": {
     "model_module": "@jupyter-widgets/controls",
     "model_name": "FloatProgressModel",
     "state": {
      "_view_name": "ProgressView",
      "style": "IPY_MODEL_0993d4e710bc43e4a645323a2612221f",
      "_dom_classes": [],
      "description": "",
      "_model_name": "FloatProgressModel",
      "bar_style": "success",
      "max": 4542,
      "_view_module": "@jupyter-widgets/controls",
      "_model_module_version": "1.5.0",
      "value": 4542,
      "_view_count": null,
      "_view_module_version": "1.5.0",
      "orientation": "horizontal",
      "min": 0,
      "description_tooltip": null,
      "_model_module": "@jupyter-widgets/controls",
      "layout": "IPY_MODEL_de1801ff066a4b9a8a3a96bbd7e64f4f"
     }
    },
    "0c6bc2c20182464faa1085ef5bf66198": {
     "model_module": "@jupyter-widgets/controls",
     "model_name": "HTMLModel",
     "state": {
      "_view_name": "HTMLView",
      "style": "IPY_MODEL_c4357d022d6e4c3fabbddc16cd8a89b1",
      "_dom_classes": [],
      "description": "",
      "_model_name": "HTMLModel",
      "placeholder": "​",
      "_view_module": "@jupyter-widgets/controls",
      "_model_module_version": "1.5.0",
      "value": " 5120/? [00:12&lt;00:00, 423.41it/s]",
      "_view_count": null,
      "_view_module_version": "1.5.0",
      "description_tooltip": null,
      "_model_module": "@jupyter-widgets/controls",
      "layout": "IPY_MODEL_ddfbde42da274be4888e3e89b4dffc89"
     }
    },
    "0993d4e710bc43e4a645323a2612221f": {
     "model_module": "@jupyter-widgets/controls",
     "model_name": "ProgressStyleModel",
     "state": {
      "_view_name": "StyleView",
      "_model_name": "ProgressStyleModel",
      "description_width": "initial",
      "_view_module": "@jupyter-widgets/base",
      "_model_module_version": "1.5.0",
      "_view_count": null,
      "_view_module_version": "1.2.0",
      "bar_color": null,
      "_model_module": "@jupyter-widgets/controls"
     }
    },
    "de1801ff066a4b9a8a3a96bbd7e64f4f": {
     "model_module": "@jupyter-widgets/base",
     "model_name": "LayoutModel",
     "state": {
      "_view_name": "LayoutView",
      "grid_template_rows": null,
      "right": null,
      "justify_content": null,
      "_view_module": "@jupyter-widgets/base",
      "overflow": null,
      "_model_module_version": "1.2.0",
      "_view_count": null,
      "flex_flow": null,
      "width": null,
      "min_width": null,
      "border": null,
      "align_items": null,
      "bottom": null,
      "_model_module": "@jupyter-widgets/base",
      "top": null,
      "grid_column": null,
      "overflow_y": null,
      "overflow_x": null,
      "grid_auto_flow": null,
      "grid_area": null,
      "grid_template_columns": null,
      "flex": null,
      "_model_name": "LayoutModel",
      "justify_items": null,
      "grid_row": null,
      "max_height": null,
      "align_content": null,
      "visibility": null,
      "align_self": null,
      "height": null,
      "min_height": null,
      "padding": null,
      "grid_auto_rows": null,
      "grid_gap": null,
      "max_width": null,
      "order": null,
      "_view_module_version": "1.2.0",
      "grid_template_areas": null,
      "object_position": null,
      "object_fit": null,
      "grid_auto_columns": null,
      "margin": null,
      "display": null,
      "left": null
     }
    },
    "c4357d022d6e4c3fabbddc16cd8a89b1": {
     "model_module": "@jupyter-widgets/controls",
     "model_name": "DescriptionStyleModel",
     "state": {
      "_view_name": "StyleView",
      "_model_name": "DescriptionStyleModel",
      "description_width": "",
      "_view_module": "@jupyter-widgets/base",
      "_model_module_version": "1.5.0",
      "_view_count": null,
      "_view_module_version": "1.2.0",
      "_model_module": "@jupyter-widgets/controls"
     }
    },
    "ddfbde42da274be4888e3e89b4dffc89": {
     "model_module": "@jupyter-widgets/base",
     "model_name": "LayoutModel",
     "state": {
      "_view_name": "LayoutView",
      "grid_template_rows": null,
      "right": null,
      "justify_content": null,
      "_view_module": "@jupyter-widgets/base",
      "overflow": null,
      "_model_module_version": "1.2.0",
      "_view_count": null,
      "flex_flow": null,
      "width": null,
      "min_width": null,
      "border": null,
      "align_items": null,
      "bottom": null,
      "_model_module": "@jupyter-widgets/base",
      "top": null,
      "grid_column": null,
      "overflow_y": null,
      "overflow_x": null,
      "grid_auto_flow": null,
      "grid_area": null,
      "grid_template_columns": null,
      "flex": null,
      "_model_name": "LayoutModel",
      "justify_items": null,
      "grid_row": null,
      "max_height": null,
      "align_content": null,
      "visibility": null,
      "align_self": null,
      "height": null,
      "min_height": null,
      "padding": null,
      "grid_auto_rows": null,
      "grid_gap": null,
      "max_width": null,
      "order": null,
      "_view_module_version": "1.2.0",
      "grid_template_areas": null,
      "object_position": null,
      "object_fit": null,
      "grid_auto_columns": null,
      "margin": null,
      "display": null,
      "left": null
     }
    }
   }
  }
 },
 "cells": [
  {
   "cell_type": "markdown",
   "metadata": {
    "id": "view-in-github",
    "colab_type": "text"
   },
   "source": [
    "<a href=\"https://colab.research.google.com/github/ykato27/Auto-Encorder/blob/main/VAE_Pytorch.ipynb\" target=\"_parent\"><img src=\"https://colab.research.google.com/assets/colab-badge.svg\" alt=\"Open In Colab\"/></a>"
   ]
  },
  {
   "cell_type": "markdown",
   "metadata": {
    "id": "IqLa1oIqbQ0G"
   },
   "source": [
    "## VAE-Pytorch"
   ]
  },
  {
   "cell_type": "code",
   "metadata": {
    "id": "hSXJm7KQazkb"
   },
   "source": [
    "# ライブラリのインポート\n",
    "import matplotlib.pyplot as plt\n",
    "import numpy as np\n",
    "import torch\n",
    "import torch.nn as nn\n",
    "import torch.nn.functional as F\n",
    "import torch.utils as utils\n",
    "from torch import optim\n",
    "from torchvision import datasets, transforms"
   ],
   "execution_count": 1,
   "outputs": []
  },
  {
   "cell_type": "code",
   "metadata": {
    "id": "r0_GP3Mva6wH"
   },
   "source": [
    "device = torch.device(\"cuda\" if torch.cuda.is_available() else \"cpu\")"
   ],
   "execution_count": 2,
   "outputs": []
  },
  {
   "cell_type": "markdown",
   "metadata": {
    "id": "DMsq875_bAcE"
   },
   "source": [
    "### データローダーの準備"
   ]
  },
  {
   "cell_type": "code",
   "metadata": {
    "id": "9rylx5Qfa_MW"
   },
   "source": [
    "def setup_data_loaders(batch_size=128, use_cuda=True):\n",
    "    root = \"../data\"\n",
    "    download = True\n",
    "    # 画像にどのような前処理を施すか設定します。\n",
    "    # ToTensor()の他にもサイズを変更するResize()や標準化を行うnormalize()などを指定できます。\n",
    "    trans = transforms.ToTensor()\n",
    "    # まず、torchvision.datasetsからMNISTという手書き数字のデータセットを読み込みます。\n",
    "    train_set = datasets.MNIST(\n",
    "        root=root, train=True, transform=trans, download=download\n",
    "    )\n",
    "    valid_set = datasets.MNIST(root=root, train=False, transform=trans)\n",
    "    # データセットをbatch_size個のデータごとに小分けにしたものにして、ミニバッチ学習が可能なようにします。\n",
    "    # shuffle=True　にすると画像の順序がランダムになったりしますが、ここらへんはどっちでもいいと思います。\n",
    "    train_loader = torch.utils.data.DataLoader(\n",
    "        dataset=train_set, batch_size=batch_size, shuffle=True\n",
    "    )\n",
    "    valid_loader = torch.utils.data.DataLoader(\n",
    "        dataset=valid_set, batch_size=batch_size, shuffle=False\n",
    "    )\n",
    "    return train_loader, valid_loader"
   ],
   "execution_count": 3,
   "outputs": []
  },
  {
   "cell_type": "markdown",
   "metadata": {
    "id": "4AKjeWVxbIHv"
   },
   "source": [
    "### モデルの設計"
   ]
  },
  {
   "cell_type": "code",
   "metadata": {
    "id": "jtpzI6F6bDts"
   },
   "source": [
    "class VAE(nn.Module):  # nn.Moduleクラスを引き継ぎ\n",
    "    def __init__(self, z_dim, x_dim=28 * 28):\n",
    "        super(VAE, self).__init__()\n",
    "        self.x_dim = x_dim\n",
    "        self.z_dim = z_dim\n",
    "        # エンコーダー用の関数\n",
    "        self.fc1 = nn.Linear(x_dim, 20)\n",
    "        self.fc2_mean = nn.Linear(20, z_dim)\n",
    "        self.fc2_var = nn.Linear(20, z_dim)\n",
    "        # デコーダー用の関数\n",
    "        self.fc3 = nn.Linear(z_dim, 20)\n",
    "        self.fc4 = nn.Linear(20, x_dim)\n",
    "\n",
    "    # エンコーダー\n",
    "    def encoder(self, x):\n",
    "        x = x.view(-1, self.x_dim)\n",
    "        x = F.relu(self.fc1(x))\n",
    "        mean = self.fc2_mean(x)  # 平均\n",
    "        log_var = self.fc2_var(x)  # 分散の対数\n",
    "        return mean, log_var\n",
    "\n",
    "    # 潜在ベクトルのサンプリング(再パラメータ化)\n",
    "    def reparametrizaion(self, mean, log_var, device):\n",
    "        epsilon = torch.randn(mean.shape, device=device)\n",
    "        return mean + epsilon * torch.exp(0.5 * log_var)\n",
    "\n",
    "    # デコーダー\n",
    "    def decoder(self, z):\n",
    "        y = F.relu(self.fc3(z))\n",
    "        y = torch.sigmoid(self.fc4(y))  # 各要素にシグモイド関数を適用し、値を(0,1)の範囲に\n",
    "        return y\n",
    "\n",
    "    def forward(self, x, device):\n",
    "        x = x.view(-1, self.x_dim)\n",
    "        mean, log_var = self.encoder(x)  # 画像xを入力して、平均・分散を出力\n",
    "        KL = 0.5 * torch.sum(\n",
    "            1 + log_var - mean ** 2 - torch.exp(log_var)\n",
    "        )  # KL[q(z|x)||p(z)]を計算\n",
    "        z = self.reparametrizaion(mean, log_var, device)  # 潜在ベクトルをサンプリング(再パラメータ化)\n",
    "        x_hat = self.decoder(z)  # 潜在ベクトルを入力して、再構築画像 y を出力\n",
    "        reconstruction = torch.sum(\n",
    "            x * torch.log(x_hat + 1e-8) + (1 - x) * torch.log(1 - x_hat + 1e-8)\n",
    "        )  # E[log p(x|z)]\n",
    "        lower_bound = -(\n",
    "            KL + reconstruction\n",
    "        )  # 変分下界(ELBO)=E[log p(x|z)] - KL[q(z|x)||p(z)]\n",
    "        return lower_bound, z, x_hat"
   ],
   "execution_count": 4,
   "outputs": []
  },
  {
   "cell_type": "markdown",
   "metadata": {
    "id": "dxauCWAMbMvS"
   },
   "source": [
    "### 学習"
   ]
  },
  {
   "cell_type": "code",
   "metadata": {
    "colab": {
     "base_uri": "https://localhost:8080/",
     "height": 1000,
     "referenced_widgets": [
      "d8535ac528984c6ab16ecac0fd0083be",
      "cf426e41e7b8430795be7550bf8778ec",
      "51a305095bd74f85afc25f26d90c7b80",
      "4074c7e550c84bc8ad203ec62f7355c9",
      "08ed20733287472db303486a90cb2edf",
      "f73ba6a368184e74ba27113d40bb6012",
      "c95a31e2f5124203b1c36b435dfe563c",
      "361c53a7eed9408a9bc5947e9806c4af",
      "f2afa0e3bc9e4cb881b86fee8c055987",
      "12340ca13cb641a088a3b9c9e7cb4202",
      "b8c448e6583d400a9056f8efed43c33e",
      "0d58e68047de4f16a70e892757d723f1",
      "2dcf41a345c04af29e458e969cee735c",
      "4c2f61614fba46b58c8ac5b7ad05c410",
      "82f0a87c392c4008b0161aa3e1f4123e",
      "6e3933ee70db430aba856c6f6e1605cf",
      "d30793796a2d46479d4ac484183f9af8",
      "1d8cc0c7d157422fa73104f153fb31ca",
      "df5a5d95eca9480b9d5c052bc59fc96a",
      "ce620d73286b4962a939a6a6fb37debc",
      "734648cb20ec407b80ff76840abd594d",
      "f30f1a9705f34d75ba016ab2bef4a9ff",
      "20aa196b3af74f9f9f3b5119b342eda9",
      "f3366bd2aac5463da91b9a7cc29490a9",
      "fd01bccf5c2d4989a22a5bf30a2e621f",
      "6b32e41322fe499a8bb9a04c9d2b64b4",
      "a6b8b9b4252146699e063d387511ec09",
      "0c6bc2c20182464faa1085ef5bf66198",
      "0993d4e710bc43e4a645323a2612221f",
      "de1801ff066a4b9a8a3a96bbd7e64f4f",
      "c4357d022d6e4c3fabbddc16cd8a89b1",
      "ddfbde42da274be4888e3e89b4dffc89"
     ]
    },
    "id": "74rGIH6jbLJz",
    "outputId": "7c07804c-4894-4209-b1f2-52ddd8de291a"
   },
   "source": [
    "dataloader_train, dataloader_valid = setup_data_loaders(batch_size=1000)  # データローダーを作成\n",
    "model = VAE(z_dim=10).to(device)  # モデルをインスタンス化し、GPUにのせる\n",
    "optimizer = optim.Adam(model.parameters(), lr=1e-3)  # オプティマイザーの設定\n",
    "model.train()  # モデルを訓練モードに\n",
    "num_epochs = 100\n",
    "loss_list = []\n",
    "for i in range(num_epochs):\n",
    "    losses = []\n",
    "    for x, t in dataloader_train:  # データローダーからデータを取り出す。\n",
    "        x = x.to(device)  # データをGPUにのせる\n",
    "        loss, z, y = model(x, device)  # 損失関数の値 loss 、潜在ベクトル z 、再構築画像 y を出力\n",
    "        model.zero_grad()  # モデルの勾配を初期化\n",
    "        loss.backward()  # モデル内のパラメータの勾配を計算\n",
    "        optimizer.step()  # 最適化を実行\n",
    "        losses.append(loss.cpu().detach().numpy())  # ミニバッチの損失を記録\n",
    "    loss_list.append(np.average(losses))  # バッチ全体の損失を登録\n",
    "    print(\"EPOCH: {} loss: {}\".format(i, np.average(losses)))"
   ],
   "execution_count": 5,
   "outputs": [
    {
     "output_type": "stream",
     "text": [
      "Downloading http://yann.lecun.com/exdb/mnist/train-images-idx3-ubyte.gz\n",
      "Downloading http://yann.lecun.com/exdb/mnist/train-images-idx3-ubyte.gz to ../data/MNIST/raw/train-images-idx3-ubyte.gz\n",
      "Failed to download (trying next):\n",
      "HTTP Error 503: Service Unavailable\n",
      "\n",
      "Downloading https://ossci-datasets.s3.amazonaws.com/mnist/train-images-idx3-ubyte.gz\n",
      "Downloading https://ossci-datasets.s3.amazonaws.com/mnist/train-images-idx3-ubyte.gz to ../data/MNIST/raw/train-images-idx3-ubyte.gz\n"
     ],
     "name": "stdout"
    },
    {
     "output_type": "display_data",
     "data": {
      "application/vnd.jupyter.widget-view+json": {
       "model_id": "d8535ac528984c6ab16ecac0fd0083be",
       "version_minor": 0,
       "version_major": 2
      },
      "text/plain": [
       "HBox(children=(FloatProgress(value=0.0, max=9912422.0), HTML(value='')))"
      ]
     },
     "metadata": {
      "tags": []
     }
    },
    {
     "output_type": "stream",
     "text": [
      "\n",
      "Extracting ../data/MNIST/raw/train-images-idx3-ubyte.gz to ../data/MNIST/raw\n",
      "\n",
      "Downloading http://yann.lecun.com/exdb/mnist/train-labels-idx1-ubyte.gz\n",
      "Downloading http://yann.lecun.com/exdb/mnist/train-labels-idx1-ubyte.gz to ../data/MNIST/raw/train-labels-idx1-ubyte.gz\n"
     ],
     "name": "stdout"
    },
    {
     "output_type": "display_data",
     "data": {
      "application/vnd.jupyter.widget-view+json": {
       "model_id": "f2afa0e3bc9e4cb881b86fee8c055987",
       "version_minor": 0,
       "version_major": 2
      },
      "text/plain": [
       "HBox(children=(FloatProgress(value=0.0, max=28881.0), HTML(value='')))"
      ]
     },
     "metadata": {
      "tags": []
     }
    },
    {
     "output_type": "stream",
     "text": [
      "\n",
      "Extracting ../data/MNIST/raw/train-labels-idx1-ubyte.gz to ../data/MNIST/raw\n",
      "\n",
      "Downloading http://yann.lecun.com/exdb/mnist/t10k-images-idx3-ubyte.gz\n",
      "Downloading http://yann.lecun.com/exdb/mnist/t10k-images-idx3-ubyte.gz to ../data/MNIST/raw/t10k-images-idx3-ubyte.gz\n",
      "Failed to download (trying next):\n",
      "HTTP Error 503: Service Unavailable\n",
      "\n",
      "Downloading https://ossci-datasets.s3.amazonaws.com/mnist/t10k-images-idx3-ubyte.gz\n",
      "Downloading https://ossci-datasets.s3.amazonaws.com/mnist/t10k-images-idx3-ubyte.gz to ../data/MNIST/raw/t10k-images-idx3-ubyte.gz\n"
     ],
     "name": "stdout"
    },
    {
     "output_type": "display_data",
     "data": {
      "application/vnd.jupyter.widget-view+json": {
       "model_id": "d30793796a2d46479d4ac484183f9af8",
       "version_minor": 0,
       "version_major": 2
      },
      "text/plain": [
       "HBox(children=(FloatProgress(value=0.0, max=1648877.0), HTML(value='')))"
      ]
     },
     "metadata": {
      "tags": []
     }
    },
    {
     "output_type": "stream",
     "text": [
      "\n",
      "Extracting ../data/MNIST/raw/t10k-images-idx3-ubyte.gz to ../data/MNIST/raw\n",
      "\n",
      "Downloading http://yann.lecun.com/exdb/mnist/t10k-labels-idx1-ubyte.gz\n",
      "Downloading http://yann.lecun.com/exdb/mnist/t10k-labels-idx1-ubyte.gz to ../data/MNIST/raw/t10k-labels-idx1-ubyte.gz\n"
     ],
     "name": "stdout"
    },
    {
     "output_type": "display_data",
     "data": {
      "application/vnd.jupyter.widget-view+json": {
       "model_id": "fd01bccf5c2d4989a22a5bf30a2e621f",
       "version_minor": 0,
       "version_major": 2
      },
      "text/plain": [
       "HBox(children=(FloatProgress(value=0.0, max=4542.0), HTML(value='')))"
      ]
     },
     "metadata": {
      "tags": []
     }
    },
    {
     "output_type": "stream",
     "text": [
      "\n",
      "Extracting ../data/MNIST/raw/t10k-labels-idx1-ubyte.gz to ../data/MNIST/raw\n",
      "\n"
     ],
     "name": "stdout"
    },
    {
     "output_type": "stream",
     "text": [
      "/usr/local/lib/python3.7/dist-packages/torchvision/datasets/mnist.py:498: UserWarning: The given NumPy array is not writeable, and PyTorch does not support non-writeable tensors. This means you can write to the underlying (supposedly non-writeable) NumPy array using the tensor. You may want to copy the array to protect its data or make it writeable before converting it to a tensor. This type of warning will be suppressed for the rest of this program. (Triggered internally at  /pytorch/torch/csrc/utils/tensor_numpy.cpp:180.)\n",
      "  return torch.from_numpy(parsed.astype(m[2], copy=False)).view(*s)\n"
     ],
     "name": "stderr"
    },
    {
     "output_type": "stream",
     "text": [
      "EPOCH: 0 loss: 461300.3125\n",
      "EPOCH: 1 loss: 256464.3125\n",
      "EPOCH: 2 loss: 228914.65625\n",
      "EPOCH: 3 loss: 219888.859375\n",
      "EPOCH: 4 loss: 211361.859375\n",
      "EPOCH: 5 loss: 203102.828125\n",
      "EPOCH: 6 loss: 194092.5\n",
      "EPOCH: 7 loss: 186607.296875\n",
      "EPOCH: 8 loss: 181463.0\n",
      "EPOCH: 9 loss: 177231.59375\n",
      "EPOCH: 10 loss: 173930.40625\n",
      "EPOCH: 11 loss: 171353.609375\n",
      "EPOCH: 12 loss: 169322.4375\n",
      "EPOCH: 13 loss: 167772.5\n",
      "EPOCH: 14 loss: 166462.609375\n",
      "EPOCH: 15 loss: 165374.453125\n",
      "EPOCH: 16 loss: 164317.28125\n",
      "EPOCH: 17 loss: 163306.546875\n",
      "EPOCH: 18 loss: 162391.359375\n",
      "EPOCH: 19 loss: 161442.09375\n",
      "EPOCH: 20 loss: 160451.734375\n",
      "EPOCH: 21 loss: 159505.0625\n",
      "EPOCH: 22 loss: 158658.640625\n",
      "EPOCH: 23 loss: 157797.015625\n",
      "EPOCH: 24 loss: 157016.953125\n",
      "EPOCH: 25 loss: 156230.796875\n",
      "EPOCH: 26 loss: 155511.953125\n",
      "EPOCH: 27 loss: 154769.453125\n",
      "EPOCH: 28 loss: 154017.5\n",
      "EPOCH: 29 loss: 153334.203125\n",
      "EPOCH: 30 loss: 152670.953125\n",
      "EPOCH: 31 loss: 152031.296875\n",
      "EPOCH: 32 loss: 151411.765625\n",
      "EPOCH: 33 loss: 150774.1875\n",
      "EPOCH: 34 loss: 150163.578125\n",
      "EPOCH: 35 loss: 149611.390625\n",
      "EPOCH: 36 loss: 149065.46875\n",
      "EPOCH: 37 loss: 148585.796875\n",
      "EPOCH: 38 loss: 148145.71875\n",
      "EPOCH: 39 loss: 147730.03125\n",
      "EPOCH: 40 loss: 147301.84375\n",
      "EPOCH: 41 loss: 147003.015625\n",
      "EPOCH: 42 loss: 146657.578125\n",
      "EPOCH: 43 loss: 146353.28125\n",
      "EPOCH: 44 loss: 146053.8125\n",
      "EPOCH: 45 loss: 145746.84375\n",
      "EPOCH: 46 loss: 145456.1875\n",
      "EPOCH: 47 loss: 145204.328125\n",
      "EPOCH: 48 loss: 145007.953125\n",
      "EPOCH: 49 loss: 144733.75\n",
      "EPOCH: 50 loss: 144473.765625\n",
      "EPOCH: 51 loss: 144248.703125\n",
      "EPOCH: 52 loss: 144014.640625\n",
      "EPOCH: 53 loss: 143819.421875\n",
      "EPOCH: 54 loss: 143533.9375\n",
      "EPOCH: 55 loss: 143323.046875\n",
      "EPOCH: 56 loss: 143006.40625\n",
      "EPOCH: 57 loss: 142718.328125\n",
      "EPOCH: 58 loss: 142394.421875\n",
      "EPOCH: 59 loss: 142094.453125\n",
      "EPOCH: 60 loss: 141811.046875\n",
      "EPOCH: 61 loss: 141524.34375\n",
      "EPOCH: 62 loss: 141229.578125\n",
      "EPOCH: 63 loss: 140980.4375\n",
      "EPOCH: 64 loss: 140754.8125\n",
      "EPOCH: 65 loss: 140529.8125\n",
      "EPOCH: 66 loss: 140320.359375\n",
      "EPOCH: 67 loss: 140122.953125\n",
      "EPOCH: 68 loss: 139961.015625\n",
      "EPOCH: 69 loss: 139746.265625\n",
      "EPOCH: 70 loss: 139572.796875\n",
      "EPOCH: 71 loss: 139459.546875\n",
      "EPOCH: 72 loss: 139329.1875\n",
      "EPOCH: 73 loss: 139229.828125\n",
      "EPOCH: 74 loss: 139114.984375\n",
      "EPOCH: 75 loss: 138960.640625\n",
      "EPOCH: 76 loss: 138861.8125\n",
      "EPOCH: 77 loss: 138761.890625\n",
      "EPOCH: 78 loss: 138664.0625\n",
      "EPOCH: 79 loss: 138585.515625\n",
      "EPOCH: 80 loss: 138512.765625\n",
      "EPOCH: 81 loss: 138424.109375\n",
      "EPOCH: 82 loss: 138364.03125\n",
      "EPOCH: 83 loss: 138271.046875\n",
      "EPOCH: 84 loss: 138215.65625\n",
      "EPOCH: 85 loss: 138138.734375\n",
      "EPOCH: 86 loss: 138082.078125\n",
      "EPOCH: 87 loss: 138050.953125\n",
      "EPOCH: 88 loss: 137991.21875\n",
      "EPOCH: 89 loss: 137947.140625\n",
      "EPOCH: 90 loss: 137874.078125\n",
      "EPOCH: 91 loss: 137777.84375\n",
      "EPOCH: 92 loss: 137747.015625\n",
      "EPOCH: 93 loss: 137698.546875\n",
      "EPOCH: 94 loss: 137647.203125\n",
      "EPOCH: 95 loss: 137633.90625\n",
      "EPOCH: 96 loss: 137560.109375\n",
      "EPOCH: 97 loss: 137479.453125\n",
      "EPOCH: 98 loss: 137485.578125\n",
      "EPOCH: 99 loss: 137407.328125\n"
     ],
     "name": "stdout"
    }
   ]
  },
  {
   "cell_type": "markdown",
   "metadata": {
    "id": "D6yYawhkbVRm"
   },
   "source": [
    "### 可視化"
   ]
  },
  {
   "cell_type": "code",
   "metadata": {
    "colab": {
     "base_uri": "https://localhost:8080/",
     "height": 276
    },
    "id": "NlNPY5KHbPRT",
    "outputId": "8290acc5-beca-412b-bff1-025ce08a1239"
   },
   "source": [
    "fig = plt.figure(figsize=(20, 4))\n",
    "model.eval()\n",
    "zs = []\n",
    "for x, t in dataloader_valid:\n",
    "    for i, im in enumerate(x.view(-1, 28, 28).detach().numpy()[:10]):\n",
    "        # 元画像を可視化\n",
    "        ax = fig.add_subplot(2, 10, i + 1, xticks=[], yticks=[])\n",
    "        ax.imshow(im, \"gray\")\n",
    "    x = x.to(device)\n",
    "    _, _, y = model(x, device)  # 再構築画像 y を出力\n",
    "    y = y.view(-1, 28, 28)\n",
    "    for i, im in enumerate(y.cpu().detach().numpy()[:10]):\n",
    "        # 再構築画像を可視化\n",
    "        ax = fig.add_subplot(2, 10, 11 + i, xticks=[], yticks=[])\n",
    "        ax.imshow(im, \"gray\")"
   ],
   "execution_count": 6,
   "outputs": [
    {
     "output_type": "stream",
     "text": [
      "/usr/local/lib/python3.7/dist-packages/ipykernel_launcher.py:7: MatplotlibDeprecationWarning: Adding an axes using the same arguments as a previous axes currently reuses the earlier instance.  In a future version, a new instance will always be created and returned.  Meanwhile, this warning can be suppressed, and the future behavior ensured, by passing a unique label to each axes instance.\n",
      "  import sys\n",
      "/usr/local/lib/python3.7/dist-packages/ipykernel_launcher.py:14: MatplotlibDeprecationWarning: Adding an axes using the same arguments as a previous axes currently reuses the earlier instance.  In a future version, a new instance will always be created and returned.  Meanwhile, this warning can be suppressed, and the future behavior ensured, by passing a unique label to each axes instance.\n",
      "  \n"
     ],
     "name": "stderr"
    },
    {
     "output_type": "display_data",
     "data": {
      "image/png": "[encoded data removed]",
      "text/plain": [
       "<Figure size 1440x288 with 20 Axes>"
      ]
     },
     "metadata": {
      "tags": []
     }
    }
   ]
  },
  {
   "cell_type": "code",
   "metadata": {
    "colab": {
     "base_uri": "https://localhost:8080/",
     "height": 511
    },
    "id": "RUBZQQnTbYNl",
    "outputId": "2d3de054-b4d7-4c88-c395-ae3531a4c52d"
   },
   "source": [
    "fig, ax = plt.subplots(nrows=3, ncols=5, figsize=(20, 12))\n",
    "model.eval()\n",
    "for r in range(3):\n",
    "    for c in range(5):\n",
    "        ax[r, c].imshow(\n",
    "            model.decoder(torch.randn(10).cuda())\n",
    "            .detach()\n",
    "            .cpu()\n",
    "            .numpy()\n",
    "            .reshape(28, 28),\n",
    "            cmap=\"gray\",\n",
    "        )\n",
    "        ax[r, c].axis(\"off\")"
   ],
   "execution_count": 7,
   "outputs": [
    {
     "output_type": "display_data",
     "data": {
      "image/png": "[encoded data removed]",
      "text/plain": [
       "<Figure size 1440x864 with 15 Axes>"
      ]
     },
     "metadata": {
      "tags": [],
      "needs_background": "light"
     }
    }
   ]
  },
  {
   "cell_type": "code",
   "metadata": {
    "id": "BPrgGdH-bZW9"
   },
   "source": [
    ""
   ],
   "execution_count": null,
   "outputs": []
  }
 ]
}
