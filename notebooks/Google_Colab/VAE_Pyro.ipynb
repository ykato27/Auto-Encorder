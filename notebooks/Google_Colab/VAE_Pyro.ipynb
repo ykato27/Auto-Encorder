{
  "nbformat": 4,
  "nbformat_minor": 0,
  "metadata": {
    "colab": {
      "name": "VAE-Pyro.ipynb",
      "provenance": [],
      "collapsed_sections": [],
      "authorship_tag": "ABX9TyP94ak1QNv7IoCr6ejLiFJ+",
      "include_colab_link": true
    },
    "kernelspec": {
      "name": "python3",
      "display_name": "Python 3"
    },
    "language_info": {
      "name": "python"
    },
    "accelerator": "GPU",
    "widgets": {
      "application/vnd.jupyter.widget-state+json": {
        "3a5229e2fa3b4f6084f84e18dc423dbb": {
          "model_module": "@jupyter-widgets/controls",
          "model_name": "HBoxModel",
          "state": {
            "_view_name": "HBoxView",
            "_dom_classes": [],
            "_model_name": "HBoxModel",
            "_view_module": "@jupyter-widgets/controls",
            "_model_module_version": "1.5.0",
            "_view_count": null,
            "_view_module_version": "1.5.0",
            "box_style": "",
            "layout": "IPY_MODEL_5c8fb4583aaf4f728e171ab6169ba6d8",
            "_model_module": "@jupyter-widgets/controls",
            "children": [
              "IPY_MODEL_275c2617642f4f86b674bc57d35a1e6d",
              "IPY_MODEL_1acdf20e12c44aed82136149d4540ebb"
            ]
          }
        },
        "5c8fb4583aaf4f728e171ab6169ba6d8": {
          "model_module": "@jupyter-widgets/base",
          "model_name": "LayoutModel",
          "state": {
            "_view_name": "LayoutView",
            "grid_template_rows": null,
            "right": null,
            "justify_content": null,
            "_view_module": "@jupyter-widgets/base",
            "overflow": null,
            "_model_module_version": "1.2.0",
            "_view_count": null,
            "flex_flow": null,
            "width": null,
            "min_width": null,
            "border": null,
            "align_items": null,
            "bottom": null,
            "_model_module": "@jupyter-widgets/base",
            "top": null,
            "grid_column": null,
            "overflow_y": null,
            "overflow_x": null,
            "grid_auto_flow": null,
            "grid_area": null,
            "grid_template_columns": null,
            "flex": null,
            "_model_name": "LayoutModel",
            "justify_items": null,
            "grid_row": null,
            "max_height": null,
            "align_content": null,
            "visibility": null,
            "align_self": null,
            "height": null,
            "min_height": null,
            "padding": null,
            "grid_auto_rows": null,
            "grid_gap": null,
            "max_width": null,
            "order": null,
            "_view_module_version": "1.2.0",
            "grid_template_areas": null,
            "object_position": null,
            "object_fit": null,
            "grid_auto_columns": null,
            "margin": null,
            "display": null,
            "left": null
          }
        },
        "275c2617642f4f86b674bc57d35a1e6d": {
          "model_module": "@jupyter-widgets/controls",
          "model_name": "FloatProgressModel",
          "state": {
            "_view_name": "ProgressView",
            "style": "IPY_MODEL_6481840092d640d593a47c4e615a36b9",
            "_dom_classes": [],
            "description": "",
            "_model_name": "FloatProgressModel",
            "bar_style": "success",
            "max": 9912422,
            "_view_module": "@jupyter-widgets/controls",
            "_model_module_version": "1.5.0",
            "value": 9912422,
            "_view_count": null,
            "_view_module_version": "1.5.0",
            "orientation": "horizontal",
            "min": 0,
            "description_tooltip": null,
            "_model_module": "@jupyter-widgets/controls",
            "layout": "IPY_MODEL_c8607326bd50458d9a49629200703e53"
          }
        },
        "1acdf20e12c44aed82136149d4540ebb": {
          "model_module": "@jupyter-widgets/controls",
          "model_name": "HTMLModel",
          "state": {
            "_view_name": "HTMLView",
            "style": "IPY_MODEL_38345ee3f0b445928eaf5af4d8d54f46",
            "_dom_classes": [],
            "description": "",
            "_model_name": "HTMLModel",
            "placeholder": "​",
            "_view_module": "@jupyter-widgets/controls",
            "_model_module_version": "1.5.0",
            "value": " 9913344/? [00:02&lt;00:00, 3729220.21it/s]",
            "_view_count": null,
            "_view_module_version": "1.5.0",
            "description_tooltip": null,
            "_model_module": "@jupyter-widgets/controls",
            "layout": "IPY_MODEL_f652b73845fc478fa4e2093e116b042c"
          }
        },
        "6481840092d640d593a47c4e615a36b9": {
          "model_module": "@jupyter-widgets/controls",
          "model_name": "ProgressStyleModel",
          "state": {
            "_view_name": "StyleView",
            "_model_name": "ProgressStyleModel",
            "description_width": "initial",
            "_view_module": "@jupyter-widgets/base",
            "_model_module_version": "1.5.0",
            "_view_count": null,
            "_view_module_version": "1.2.0",
            "bar_color": null,
            "_model_module": "@jupyter-widgets/controls"
          }
        },
        "c8607326bd50458d9a49629200703e53": {
          "model_module": "@jupyter-widgets/base",
          "model_name": "LayoutModel",
          "state": {
            "_view_name": "LayoutView",
            "grid_template_rows": null,
            "right": null,
            "justify_content": null,
            "_view_module": "@jupyter-widgets/base",
            "overflow": null,
            "_model_module_version": "1.2.0",
            "_view_count": null,
            "flex_flow": null,
            "width": null,
            "min_width": null,
            "border": null,
            "align_items": null,
            "bottom": null,
            "_model_module": "@jupyter-widgets/base",
            "top": null,
            "grid_column": null,
            "overflow_y": null,
            "overflow_x": null,
            "grid_auto_flow": null,
            "grid_area": null,
            "grid_template_columns": null,
            "flex": null,
            "_model_name": "LayoutModel",
            "justify_items": null,
            "grid_row": null,
            "max_height": null,
            "align_content": null,
            "visibility": null,
            "align_self": null,
            "height": null,
            "min_height": null,
            "padding": null,
            "grid_auto_rows": null,
            "grid_gap": null,
            "max_width": null,
            "order": null,
            "_view_module_version": "1.2.0",
            "grid_template_areas": null,
            "object_position": null,
            "object_fit": null,
            "grid_auto_columns": null,
            "margin": null,
            "display": null,
            "left": null
          }
        },
        "38345ee3f0b445928eaf5af4d8d54f46": {
          "model_module": "@jupyter-widgets/controls",
          "model_name": "DescriptionStyleModel",
          "state": {
            "_view_name": "StyleView",
            "_model_name": "DescriptionStyleModel",
            "description_width": "",
            "_view_module": "@jupyter-widgets/base",
            "_model_module_version": "1.5.0",
            "_view_count": null,
            "_view_module_version": "1.2.0",
            "_model_module": "@jupyter-widgets/controls"
          }
        },
        "f652b73845fc478fa4e2093e116b042c": {
          "model_module": "@jupyter-widgets/base",
          "model_name": "LayoutModel",
          "state": {
            "_view_name": "LayoutView",
            "grid_template_rows": null,
            "right": null,
            "justify_content": null,
            "_view_module": "@jupyter-widgets/base",
            "overflow": null,
            "_model_module_version": "1.2.0",
            "_view_count": null,
            "flex_flow": null,
            "width": null,
            "min_width": null,
            "border": null,
            "align_items": null,
            "bottom": null,
            "_model_module": "@jupyter-widgets/base",
            "top": null,
            "grid_column": null,
            "overflow_y": null,
            "overflow_x": null,
            "grid_auto_flow": null,
            "grid_area": null,
            "grid_template_columns": null,
            "flex": null,
            "_model_name": "LayoutModel",
            "justify_items": null,
            "grid_row": null,
            "max_height": null,
            "align_content": null,
            "visibility": null,
            "align_self": null,
            "height": null,
            "min_height": null,
            "padding": null,
            "grid_auto_rows": null,
            "grid_gap": null,
            "max_width": null,
            "order": null,
            "_view_module_version": "1.2.0",
            "grid_template_areas": null,
            "object_position": null,
            "object_fit": null,
            "grid_auto_columns": null,
            "margin": null,
            "display": null,
            "left": null
          }
        },
        "7e85c8086a1e4d97845c097c9e800644": {
          "model_module": "@jupyter-widgets/controls",
          "model_name": "HBoxModel",
          "state": {
            "_view_name": "HBoxView",
            "_dom_classes": [],
            "_model_name": "HBoxModel",
            "_view_module": "@jupyter-widgets/controls",
            "_model_module_version": "1.5.0",
            "_view_count": null,
            "_view_module_version": "1.5.0",
            "box_style": "",
            "layout": "IPY_MODEL_44377dbf097c45db85c0c742a5ab1f13",
            "_model_module": "@jupyter-widgets/controls",
            "children": [
              "IPY_MODEL_3092ec53ec224a02b3bd4af6398591db",
              "IPY_MODEL_e49f180b47554827aa10999b040e68dd"
            ]
          }
        },
        "44377dbf097c45db85c0c742a5ab1f13": {
          "model_module": "@jupyter-widgets/base",
          "model_name": "LayoutModel",
          "state": {
            "_view_name": "LayoutView",
            "grid_template_rows": null,
            "right": null,
            "justify_content": null,
            "_view_module": "@jupyter-widgets/base",
            "overflow": null,
            "_model_module_version": "1.2.0",
            "_view_count": null,
            "flex_flow": null,
            "width": null,
            "min_width": null,
            "border": null,
            "align_items": null,
            "bottom": null,
            "_model_module": "@jupyter-widgets/base",
            "top": null,
            "grid_column": null,
            "overflow_y": null,
            "overflow_x": null,
            "grid_auto_flow": null,
            "grid_area": null,
            "grid_template_columns": null,
            "flex": null,
            "_model_name": "LayoutModel",
            "justify_items": null,
            "grid_row": null,
            "max_height": null,
            "align_content": null,
            "visibility": null,
            "align_self": null,
            "height": null,
            "min_height": null,
            "padding": null,
            "grid_auto_rows": null,
            "grid_gap": null,
            "max_width": null,
            "order": null,
            "_view_module_version": "1.2.0",
            "grid_template_areas": null,
            "object_position": null,
            "object_fit": null,
            "grid_auto_columns": null,
            "margin": null,
            "display": null,
            "left": null
          }
        },
        "3092ec53ec224a02b3bd4af6398591db": {
          "model_module": "@jupyter-widgets/controls",
          "model_name": "FloatProgressModel",
          "state": {
            "_view_name": "ProgressView",
            "style": "IPY_MODEL_5510f7c47f7746df81ebdc6d33c5bdf1",
            "_dom_classes": [],
            "description": "",
            "_model_name": "FloatProgressModel",
            "bar_style": "success",
            "max": 28881,
            "_view_module": "@jupyter-widgets/controls",
            "_model_module_version": "1.5.0",
            "value": 28881,
            "_view_count": null,
            "_view_module_version": "1.5.0",
            "orientation": "horizontal",
            "min": 0,
            "description_tooltip": null,
            "_model_module": "@jupyter-widgets/controls",
            "layout": "IPY_MODEL_1b1e032b533647669e4f2f4a701b2b18"
          }
        },
        "e49f180b47554827aa10999b040e68dd": {
          "model_module": "@jupyter-widgets/controls",
          "model_name": "HTMLModel",
          "state": {
            "_view_name": "HTMLView",
            "style": "IPY_MODEL_520b61f876f440fea9d33ae1b0c96504",
            "_dom_classes": [],
            "description": "",
            "_model_name": "HTMLModel",
            "placeholder": "​",
            "_view_module": "@jupyter-widgets/controls",
            "_model_module_version": "1.5.0",
            "value": " 29696/? [00:01&lt;00:00, 23681.80it/s]",
            "_view_count": null,
            "_view_module_version": "1.5.0",
            "description_tooltip": null,
            "_model_module": "@jupyter-widgets/controls",
            "layout": "IPY_MODEL_a61fab03cccb4825a7d874edad56d612"
          }
        },
        "5510f7c47f7746df81ebdc6d33c5bdf1": {
          "model_module": "@jupyter-widgets/controls",
          "model_name": "ProgressStyleModel",
          "state": {
            "_view_name": "StyleView",
            "_model_name": "ProgressStyleModel",
            "description_width": "initial",
            "_view_module": "@jupyter-widgets/base",
            "_model_module_version": "1.5.0",
            "_view_count": null,
            "_view_module_version": "1.2.0",
            "bar_color": null,
            "_model_module": "@jupyter-widgets/controls"
          }
        },
        "1b1e032b533647669e4f2f4a701b2b18": {
          "model_module": "@jupyter-widgets/base",
          "model_name": "LayoutModel",
          "state": {
            "_view_name": "LayoutView",
            "grid_template_rows": null,
            "right": null,
            "justify_content": null,
            "_view_module": "@jupyter-widgets/base",
            "overflow": null,
            "_model_module_version": "1.2.0",
            "_view_count": null,
            "flex_flow": null,
            "width": null,
            "min_width": null,
            "border": null,
            "align_items": null,
            "bottom": null,
            "_model_module": "@jupyter-widgets/base",
            "top": null,
            "grid_column": null,
            "overflow_y": null,
            "overflow_x": null,
            "grid_auto_flow": null,
            "grid_area": null,
            "grid_template_columns": null,
            "flex": null,
            "_model_name": "LayoutModel",
            "justify_items": null,
            "grid_row": null,
            "max_height": null,
            "align_content": null,
            "visibility": null,
            "align_self": null,
            "height": null,
            "min_height": null,
            "padding": null,
            "grid_auto_rows": null,
            "grid_gap": null,
            "max_width": null,
            "order": null,
            "_view_module_version": "1.2.0",
            "grid_template_areas": null,
            "object_position": null,
            "object_fit": null,
            "grid_auto_columns": null,
            "margin": null,
            "display": null,
            "left": null
          }
        },
        "520b61f876f440fea9d33ae1b0c96504": {
          "model_module": "@jupyter-widgets/controls",
          "model_name": "DescriptionStyleModel",
          "state": {
            "_view_name": "StyleView",
            "_model_name": "DescriptionStyleModel",
            "description_width": "",
            "_view_module": "@jupyter-widgets/base",
            "_model_module_version": "1.5.0",
            "_view_count": null,
            "_view_module_version": "1.2.0",
            "_model_module": "@jupyter-widgets/controls"
          }
        },
        "a61fab03cccb4825a7d874edad56d612": {
          "model_module": "@jupyter-widgets/base",
          "model_name": "LayoutModel",
          "state": {
            "_view_name": "LayoutView",
            "grid_template_rows": null,
            "right": null,
            "justify_content": null,
            "_view_module": "@jupyter-widgets/base",
            "overflow": null,
            "_model_module_version": "1.2.0",
            "_view_count": null,
            "flex_flow": null,
            "width": null,
            "min_width": null,
            "border": null,
            "align_items": null,
            "bottom": null,
            "_model_module": "@jupyter-widgets/base",
            "top": null,
            "grid_column": null,
            "overflow_y": null,
            "overflow_x": null,
            "grid_auto_flow": null,
            "grid_area": null,
            "grid_template_columns": null,
            "flex": null,
            "_model_name": "LayoutModel",
            "justify_items": null,
            "grid_row": null,
            "max_height": null,
            "align_content": null,
            "visibility": null,
            "align_self": null,
            "height": null,
            "min_height": null,
            "padding": null,
            "grid_auto_rows": null,
            "grid_gap": null,
            "max_width": null,
            "order": null,
            "_view_module_version": "1.2.0",
            "grid_template_areas": null,
            "object_position": null,
            "object_fit": null,
            "grid_auto_columns": null,
            "margin": null,
            "display": null,
            "left": null
          }
        },
        "e7ddcfc1543345dfa6285101be4c5936": {
          "model_module": "@jupyter-widgets/controls",
          "model_name": "HBoxModel",
          "state": {
            "_view_name": "HBoxView",
            "_dom_classes": [],
            "_model_name": "HBoxModel",
            "_view_module": "@jupyter-widgets/controls",
            "_model_module_version": "1.5.0",
            "_view_count": null,
            "_view_module_version": "1.5.0",
            "box_style": "",
            "layout": "IPY_MODEL_d1a445d42b1c4a0982a127ce5e54a940",
            "_model_module": "@jupyter-widgets/controls",
            "children": [
              "IPY_MODEL_64e7a23a62b4401d88961b36ab393460",
              "IPY_MODEL_6afb335efc684dc4be15506fac6310f3"
            ]
          }
        },
        "d1a445d42b1c4a0982a127ce5e54a940": {
          "model_module": "@jupyter-widgets/base",
          "model_name": "LayoutModel",
          "state": {
            "_view_name": "LayoutView",
            "grid_template_rows": null,
            "right": null,
            "justify_content": null,
            "_view_module": "@jupyter-widgets/base",
            "overflow": null,
            "_model_module_version": "1.2.0",
            "_view_count": null,
            "flex_flow": null,
            "width": null,
            "min_width": null,
            "border": null,
            "align_items": null,
            "bottom": null,
            "_model_module": "@jupyter-widgets/base",
            "top": null,
            "grid_column": null,
            "overflow_y": null,
            "overflow_x": null,
            "grid_auto_flow": null,
            "grid_area": null,
            "grid_template_columns": null,
            "flex": null,
            "_model_name": "LayoutModel",
            "justify_items": null,
            "grid_row": null,
            "max_height": null,
            "align_content": null,
            "visibility": null,
            "align_self": null,
            "height": null,
            "min_height": null,
            "padding": null,
            "grid_auto_rows": null,
            "grid_gap": null,
            "max_width": null,
            "order": null,
            "_view_module_version": "1.2.0",
            "grid_template_areas": null,
            "object_position": null,
            "object_fit": null,
            "grid_auto_columns": null,
            "margin": null,
            "display": null,
            "left": null
          }
        },
        "64e7a23a62b4401d88961b36ab393460": {
          "model_module": "@jupyter-widgets/controls",
          "model_name": "FloatProgressModel",
          "state": {
            "_view_name": "ProgressView",
            "style": "IPY_MODEL_6c0cba157dc24a9d869059681274a9c6",
            "_dom_classes": [],
            "description": "",
            "_model_name": "FloatProgressModel",
            "bar_style": "success",
            "max": 1648877,
            "_view_module": "@jupyter-widgets/controls",
            "_model_module_version": "1.5.0",
            "value": 1648877,
            "_view_count": null,
            "_view_module_version": "1.5.0",
            "orientation": "horizontal",
            "min": 0,
            "description_tooltip": null,
            "_model_module": "@jupyter-widgets/controls",
            "layout": "IPY_MODEL_6da55ddc54764a28afe3e5168557fa91"
          }
        },
        "6afb335efc684dc4be15506fac6310f3": {
          "model_module": "@jupyter-widgets/controls",
          "model_name": "HTMLModel",
          "state": {
            "_view_name": "HTMLView",
            "style": "IPY_MODEL_26fdef253813408dbfabb35eddf14bf0",
            "_dom_classes": [],
            "description": "",
            "_model_name": "HTMLModel",
            "placeholder": "​",
            "_view_module": "@jupyter-widgets/controls",
            "_model_module_version": "1.5.0",
            "value": " 1649664/? [00:00&lt;00:00, 2079235.42it/s]",
            "_view_count": null,
            "_view_module_version": "1.5.0",
            "description_tooltip": null,
            "_model_module": "@jupyter-widgets/controls",
            "layout": "IPY_MODEL_325c25446ef843119e12b8dac4e87d5e"
          }
        },
        "6c0cba157dc24a9d869059681274a9c6": {
          "model_module": "@jupyter-widgets/controls",
          "model_name": "ProgressStyleModel",
          "state": {
            "_view_name": "StyleView",
            "_model_name": "ProgressStyleModel",
            "description_width": "initial",
            "_view_module": "@jupyter-widgets/base",
            "_model_module_version": "1.5.0",
            "_view_count": null,
            "_view_module_version": "1.2.0",
            "bar_color": null,
            "_model_module": "@jupyter-widgets/controls"
          }
        },
        "6da55ddc54764a28afe3e5168557fa91": {
          "model_module": "@jupyter-widgets/base",
          "model_name": "LayoutModel",
          "state": {
            "_view_name": "LayoutView",
            "grid_template_rows": null,
            "right": null,
            "justify_content": null,
            "_view_module": "@jupyter-widgets/base",
            "overflow": null,
            "_model_module_version": "1.2.0",
            "_view_count": null,
            "flex_flow": null,
            "width": null,
            "min_width": null,
            "border": null,
            "align_items": null,
            "bottom": null,
            "_model_module": "@jupyter-widgets/base",
            "top": null,
            "grid_column": null,
            "overflow_y": null,
            "overflow_x": null,
            "grid_auto_flow": null,
            "grid_area": null,
            "grid_template_columns": null,
            "flex": null,
            "_model_name": "LayoutModel",
            "justify_items": null,
            "grid_row": null,
            "max_height": null,
            "align_content": null,
            "visibility": null,
            "align_self": null,
            "height": null,
            "min_height": null,
            "padding": null,
            "grid_auto_rows": null,
            "grid_gap": null,
            "max_width": null,
            "order": null,
            "_view_module_version": "1.2.0",
            "grid_template_areas": null,
            "object_position": null,
            "object_fit": null,
            "grid_auto_columns": null,
            "margin": null,
            "display": null,
            "left": null
          }
        },
        "26fdef253813408dbfabb35eddf14bf0": {
          "model_module": "@jupyter-widgets/controls",
          "model_name": "DescriptionStyleModel",
          "state": {
            "_view_name": "StyleView",
            "_model_name": "DescriptionStyleModel",
            "description_width": "",
            "_view_module": "@jupyter-widgets/base",
            "_model_module_version": "1.5.0",
            "_view_count": null,
            "_view_module_version": "1.2.0",
            "_model_module": "@jupyter-widgets/controls"
          }
        },
        "325c25446ef843119e12b8dac4e87d5e": {
          "model_module": "@jupyter-widgets/base",
          "model_name": "LayoutModel",
          "state": {
            "_view_name": "LayoutView",
            "grid_template_rows": null,
            "right": null,
            "justify_content": null,
            "_view_module": "@jupyter-widgets/base",
            "overflow": null,
            "_model_module_version": "1.2.0",
            "_view_count": null,
            "flex_flow": null,
            "width": null,
            "min_width": null,
            "border": null,
            "align_items": null,
            "bottom": null,
            "_model_module": "@jupyter-widgets/base",
            "top": null,
            "grid_column": null,
            "overflow_y": null,
            "overflow_x": null,
            "grid_auto_flow": null,
            "grid_area": null,
            "grid_template_columns": null,
            "flex": null,
            "_model_name": "LayoutModel",
            "justify_items": null,
            "grid_row": null,
            "max_height": null,
            "align_content": null,
            "visibility": null,
            "align_self": null,
            "height": null,
            "min_height": null,
            "padding": null,
            "grid_auto_rows": null,
            "grid_gap": null,
            "max_width": null,
            "order": null,
            "_view_module_version": "1.2.0",
            "grid_template_areas": null,
            "object_position": null,
            "object_fit": null,
            "grid_auto_columns": null,
            "margin": null,
            "display": null,
            "left": null
          }
        },
        "dbff1eceb0a747638d5d90f8ffdf490f": {
          "model_module": "@jupyter-widgets/controls",
          "model_name": "HBoxModel",
          "state": {
            "_view_name": "HBoxView",
            "_dom_classes": [],
            "_model_name": "HBoxModel",
            "_view_module": "@jupyter-widgets/controls",
            "_model_module_version": "1.5.0",
            "_view_count": null,
            "_view_module_version": "1.5.0",
            "box_style": "",
            "layout": "IPY_MODEL_97cafde7e26444a2afb9c8824c2b1e7f",
            "_model_module": "@jupyter-widgets/controls",
            "children": [
              "IPY_MODEL_1270d09c25954c94a5f482ae3b610529",
              "IPY_MODEL_25e40945694b419f8d9da5f844a5712c"
            ]
          }
        },
        "97cafde7e26444a2afb9c8824c2b1e7f": {
          "model_module": "@jupyter-widgets/base",
          "model_name": "LayoutModel",
          "state": {
            "_view_name": "LayoutView",
            "grid_template_rows": null,
            "right": null,
            "justify_content": null,
            "_view_module": "@jupyter-widgets/base",
            "overflow": null,
            "_model_module_version": "1.2.0",
            "_view_count": null,
            "flex_flow": null,
            "width": null,
            "min_width": null,
            "border": null,
            "align_items": null,
            "bottom": null,
            "_model_module": "@jupyter-widgets/base",
            "top": null,
            "grid_column": null,
            "overflow_y": null,
            "overflow_x": null,
            "grid_auto_flow": null,
            "grid_area": null,
            "grid_template_columns": null,
            "flex": null,
            "_model_name": "LayoutModel",
            "justify_items": null,
            "grid_row": null,
            "max_height": null,
            "align_content": null,
            "visibility": null,
            "align_self": null,
            "height": null,
            "min_height": null,
            "padding": null,
            "grid_auto_rows": null,
            "grid_gap": null,
            "max_width": null,
            "order": null,
            "_view_module_version": "1.2.0",
            "grid_template_areas": null,
            "object_position": null,
            "object_fit": null,
            "grid_auto_columns": null,
            "margin": null,
            "display": null,
            "left": null
          }
        },
        "1270d09c25954c94a5f482ae3b610529": {
          "model_module": "@jupyter-widgets/controls",
          "model_name": "FloatProgressModel",
          "state": {
            "_view_name": "ProgressView",
            "style": "IPY_MODEL_81c64bfae3904ab687503599742f14c4",
            "_dom_classes": [],
            "description": "",
            "_model_name": "FloatProgressModel",
            "bar_style": "success",
            "max": 4542,
            "_view_module": "@jupyter-widgets/controls",
            "_model_module_version": "1.5.0",
            "value": 4542,
            "_view_count": null,
            "_view_module_version": "1.5.0",
            "orientation": "horizontal",
            "min": 0,
            "description_tooltip": null,
            "_model_module": "@jupyter-widgets/controls",
            "layout": "IPY_MODEL_ee5e1d40a8af4011b524b94e4cf0072b"
          }
        },
        "25e40945694b419f8d9da5f844a5712c": {
          "model_module": "@jupyter-widgets/controls",
          "model_name": "HTMLModel",
          "state": {
            "_view_name": "HTMLView",
            "style": "IPY_MODEL_4757456e0d1847d384183968b32e40df",
            "_dom_classes": [],
            "description": "",
            "_model_name": "HTMLModel",
            "placeholder": "​",
            "_view_module": "@jupyter-widgets/controls",
            "_model_module_version": "1.5.0",
            "value": " 5120/? [00:12&lt;00:00, 422.16it/s]",
            "_view_count": null,
            "_view_module_version": "1.5.0",
            "description_tooltip": null,
            "_model_module": "@jupyter-widgets/controls",
            "layout": "IPY_MODEL_702efafb4bed4b7fb882bb2650916aeb"
          }
        },
        "81c64bfae3904ab687503599742f14c4": {
          "model_module": "@jupyter-widgets/controls",
          "model_name": "ProgressStyleModel",
          "state": {
            "_view_name": "StyleView",
            "_model_name": "ProgressStyleModel",
            "description_width": "initial",
            "_view_module": "@jupyter-widgets/base",
            "_model_module_version": "1.5.0",
            "_view_count": null,
            "_view_module_version": "1.2.0",
            "bar_color": null,
            "_model_module": "@jupyter-widgets/controls"
          }
        },
        "ee5e1d40a8af4011b524b94e4cf0072b": {
          "model_module": "@jupyter-widgets/base",
          "model_name": "LayoutModel",
          "state": {
            "_view_name": "LayoutView",
            "grid_template_rows": null,
            "right": null,
            "justify_content": null,
            "_view_module": "@jupyter-widgets/base",
            "overflow": null,
            "_model_module_version": "1.2.0",
            "_view_count": null,
            "flex_flow": null,
            "width": null,
            "min_width": null,
            "border": null,
            "align_items": null,
            "bottom": null,
            "_model_module": "@jupyter-widgets/base",
            "top": null,
            "grid_column": null,
            "overflow_y": null,
            "overflow_x": null,
            "grid_auto_flow": null,
            "grid_area": null,
            "grid_template_columns": null,
            "flex": null,
            "_model_name": "LayoutModel",
            "justify_items": null,
            "grid_row": null,
            "max_height": null,
            "align_content": null,
            "visibility": null,
            "align_self": null,
            "height": null,
            "min_height": null,
            "padding": null,
            "grid_auto_rows": null,
            "grid_gap": null,
            "max_width": null,
            "order": null,
            "_view_module_version": "1.2.0",
            "grid_template_areas": null,
            "object_position": null,
            "object_fit": null,
            "grid_auto_columns": null,
            "margin": null,
            "display": null,
            "left": null
          }
        },
        "4757456e0d1847d384183968b32e40df": {
          "model_module": "@jupyter-widgets/controls",
          "model_name": "DescriptionStyleModel",
          "state": {
            "_view_name": "StyleView",
            "_model_name": "DescriptionStyleModel",
            "description_width": "",
            "_view_module": "@jupyter-widgets/base",
            "_model_module_version": "1.5.0",
            "_view_count": null,
            "_view_module_version": "1.2.0",
            "_model_module": "@jupyter-widgets/controls"
          }
        },
        "702efafb4bed4b7fb882bb2650916aeb": {
          "model_module": "@jupyter-widgets/base",
          "model_name": "LayoutModel",
          "state": {
            "_view_name": "LayoutView",
            "grid_template_rows": null,
            "right": null,
            "justify_content": null,
            "_view_module": "@jupyter-widgets/base",
            "overflow": null,
            "_model_module_version": "1.2.0",
            "_view_count": null,
            "flex_flow": null,
            "width": null,
            "min_width": null,
            "border": null,
            "align_items": null,
            "bottom": null,
            "_model_module": "@jupyter-widgets/base",
            "top": null,
            "grid_column": null,
            "overflow_y": null,
            "overflow_x": null,
            "grid_auto_flow": null,
            "grid_area": null,
            "grid_template_columns": null,
            "flex": null,
            "_model_name": "LayoutModel",
            "justify_items": null,
            "grid_row": null,
            "max_height": null,
            "align_content": null,
            "visibility": null,
            "align_self": null,
            "height": null,
            "min_height": null,
            "padding": null,
            "grid_auto_rows": null,
            "grid_gap": null,
            "max_width": null,
            "order": null,
            "_view_module_version": "1.2.0",
            "grid_template_areas": null,
            "object_position": null,
            "object_fit": null,
            "grid_auto_columns": null,
            "margin": null,
            "display": null,
            "left": null
          }
        }
      }
    }
  },
  "cells": [
    {
      "cell_type": "markdown",
      "metadata": {
        "id": "view-in-github",
        "colab_type": "text"
      },
      "source": [
        "<a href=\"https://colab.research.google.com/github/ykato27/Auto-Encorder/blob/main/VAE_Pyro.ipynb\" target=\"_parent\"><img src=\"https://colab.research.google.com/assets/colab-badge.svg\" alt=\"Open In Colab\"/></a>"
      ]
    },
    {
      "cell_type": "markdown",
      "metadata": {
        "id": "GIUsBJ1-cn0j"
      },
      "source": [
        "## VAE-Pyro"
      ]
    },
    {
      "cell_type": "code",
      "metadata": {
        "colab": {
          "base_uri": "https://localhost:8080/"
        },
        "id": "3O07zPVrcj1q",
        "outputId": "17940d3a-428a-4b73-a275-1c0b4b644866"
      },
      "source": [
        "!pip install pyro-ppl"
      ],
      "execution_count": 1,
      "outputs": [
        {
          "output_type": "stream",
          "text": [
            "Collecting pyro-ppl\n",
            "  Downloading pyro_ppl-1.7.0-py3-none-any.whl (678 kB)\n",
            "\u001b[?25l\r\u001b[K     |▌                               | 10 kB 32.3 MB/s eta 0:00:01\r\u001b[K     |█                               | 20 kB 20.1 MB/s eta 0:00:01\r\u001b[K     |█▌                              | 30 kB 16.3 MB/s eta 0:00:01\r\u001b[K     |██                              | 40 kB 14.7 MB/s eta 0:00:01\r\u001b[K     |██▍                             | 51 kB 7.9 MB/s eta 0:00:01\r\u001b[K     |███                             | 61 kB 7.6 MB/s eta 0:00:01\r\u001b[K     |███▍                            | 71 kB 8.0 MB/s eta 0:00:01\r\u001b[K     |███▉                            | 81 kB 9.0 MB/s eta 0:00:01\r\u001b[K     |████▍                           | 92 kB 9.4 MB/s eta 0:00:01\r\u001b[K     |████▉                           | 102 kB 7.6 MB/s eta 0:00:01\r\u001b[K     |█████▎                          | 112 kB 7.6 MB/s eta 0:00:01\r\u001b[K     |█████▉                          | 122 kB 7.6 MB/s eta 0:00:01\r\u001b[K     |██████▎                         | 133 kB 7.6 MB/s eta 0:00:01\r\u001b[K     |██████▊                         | 143 kB 7.6 MB/s eta 0:00:01\r\u001b[K     |███████▎                        | 153 kB 7.6 MB/s eta 0:00:01\r\u001b[K     |███████▊                        | 163 kB 7.6 MB/s eta 0:00:01\r\u001b[K     |████████▏                       | 174 kB 7.6 MB/s eta 0:00:01\r\u001b[K     |████████▊                       | 184 kB 7.6 MB/s eta 0:00:01\r\u001b[K     |█████████▏                      | 194 kB 7.6 MB/s eta 0:00:01\r\u001b[K     |█████████▋                      | 204 kB 7.6 MB/s eta 0:00:01\r\u001b[K     |██████████▏                     | 215 kB 7.6 MB/s eta 0:00:01\r\u001b[K     |██████████▋                     | 225 kB 7.6 MB/s eta 0:00:01\r\u001b[K     |███████████                     | 235 kB 7.6 MB/s eta 0:00:01\r\u001b[K     |███████████▋                    | 245 kB 7.6 MB/s eta 0:00:01\r\u001b[K     |████████████                    | 256 kB 7.6 MB/s eta 0:00:01\r\u001b[K     |████████████▌                   | 266 kB 7.6 MB/s eta 0:00:01\r\u001b[K     |█████████████                   | 276 kB 7.6 MB/s eta 0:00:01\r\u001b[K     |█████████████▌                  | 286 kB 7.6 MB/s eta 0:00:01\r\u001b[K     |██████████████                  | 296 kB 7.6 MB/s eta 0:00:01\r\u001b[K     |██████████████▌                 | 307 kB 7.6 MB/s eta 0:00:01\r\u001b[K     |███████████████                 | 317 kB 7.6 MB/s eta 0:00:01\r\u001b[K     |███████████████▌                | 327 kB 7.6 MB/s eta 0:00:01\r\u001b[K     |████████████████                | 337 kB 7.6 MB/s eta 0:00:01\r\u001b[K     |████████████████▍               | 348 kB 7.6 MB/s eta 0:00:01\r\u001b[K     |█████████████████               | 358 kB 7.6 MB/s eta 0:00:01\r\u001b[K     |█████████████████▍              | 368 kB 7.6 MB/s eta 0:00:01\r\u001b[K     |█████████████████▉              | 378 kB 7.6 MB/s eta 0:00:01\r\u001b[K     |██████████████████▍             | 389 kB 7.6 MB/s eta 0:00:01\r\u001b[K     |██████████████████▉             | 399 kB 7.6 MB/s eta 0:00:01\r\u001b[K     |███████████████████▎            | 409 kB 7.6 MB/s eta 0:00:01\r\u001b[K     |███████████████████▉            | 419 kB 7.6 MB/s eta 0:00:01\r\u001b[K     |████████████████████▎           | 430 kB 7.6 MB/s eta 0:00:01\r\u001b[K     |████████████████████▊           | 440 kB 7.6 MB/s eta 0:00:01\r\u001b[K     |█████████████████████▎          | 450 kB 7.6 MB/s eta 0:00:01\r\u001b[K     |█████████████████████▊          | 460 kB 7.6 MB/s eta 0:00:01\r\u001b[K     |██████████████████████▏         | 471 kB 7.6 MB/s eta 0:00:01\r\u001b[K     |██████████████████████▊         | 481 kB 7.6 MB/s eta 0:00:01\r\u001b[K     |███████████████████████▏        | 491 kB 7.6 MB/s eta 0:00:01\r\u001b[K     |███████████████████████▋        | 501 kB 7.6 MB/s eta 0:00:01\r\u001b[K     |████████████████████████▏       | 512 kB 7.6 MB/s eta 0:00:01\r\u001b[K     |████████████████████████▋       | 522 kB 7.6 MB/s eta 0:00:01\r\u001b[K     |█████████████████████████       | 532 kB 7.6 MB/s eta 0:00:01\r\u001b[K     |█████████████████████████▋      | 542 kB 7.6 MB/s eta 0:00:01\r\u001b[K     |██████████████████████████      | 552 kB 7.6 MB/s eta 0:00:01\r\u001b[K     |██████████████████████████▌     | 563 kB 7.6 MB/s eta 0:00:01\r\u001b[K     |███████████████████████████     | 573 kB 7.6 MB/s eta 0:00:01\r\u001b[K     |███████████████████████████▌    | 583 kB 7.6 MB/s eta 0:00:01\r\u001b[K     |████████████████████████████    | 593 kB 7.6 MB/s eta 0:00:01\r\u001b[K     |████████████████████████████▌   | 604 kB 7.6 MB/s eta 0:00:01\r\u001b[K     |█████████████████████████████   | 614 kB 7.6 MB/s eta 0:00:01\r\u001b[K     |█████████████████████████████▍  | 624 kB 7.6 MB/s eta 0:00:01\r\u001b[K     |██████████████████████████████  | 634 kB 7.6 MB/s eta 0:00:01\r\u001b[K     |██████████████████████████████▍ | 645 kB 7.6 MB/s eta 0:00:01\r\u001b[K     |███████████████████████████████ | 655 kB 7.6 MB/s eta 0:00:01\r\u001b[K     |███████████████████████████████▍| 665 kB 7.6 MB/s eta 0:00:01\r\u001b[K     |███████████████████████████████▉| 675 kB 7.6 MB/s eta 0:00:01\r\u001b[K     |████████████████████████████████| 678 kB 7.6 MB/s \n",
            "\u001b[?25hRequirement already satisfied: torch>=1.9.0 in /usr/local/lib/python3.7/dist-packages (from pyro-ppl) (1.9.0+cu102)\n",
            "Requirement already satisfied: tqdm>=4.36 in /usr/local/lib/python3.7/dist-packages (from pyro-ppl) (4.41.1)\n",
            "Requirement already satisfied: opt-einsum>=2.3.2 in /usr/local/lib/python3.7/dist-packages (from pyro-ppl) (3.3.0)\n",
            "Requirement already satisfied: numpy>=1.7 in /usr/local/lib/python3.7/dist-packages (from pyro-ppl) (1.19.5)\n",
            "Collecting pyro-api>=0.1.1\n",
            "  Downloading pyro_api-0.1.2-py3-none-any.whl (11 kB)\n",
            "Requirement already satisfied: typing-extensions in /usr/local/lib/python3.7/dist-packages (from torch>=1.9.0->pyro-ppl) (3.7.4.3)\n",
            "Installing collected packages: pyro-api, pyro-ppl\n",
            "Successfully installed pyro-api-0.1.2 pyro-ppl-1.7.0\n"
          ],
          "name": "stdout"
        }
      ]
    },
    {
      "cell_type": "code",
      "metadata": {
        "id": "QsIaIOARctsj"
      },
      "source": [
        "import torch\n",
        "import torch.nn as nn\n",
        "import torchvision.transforms as transforms\n",
        "import pyro\n",
        "import pyro.distributions as dist\n",
        "from pyro.infer import SVI, Trace_ELBO\n",
        "from pyro.optim import Adam\n",
        "from pyro.contrib.examples.util import MNIST"
      ],
      "execution_count": 2,
      "outputs": []
    },
    {
      "cell_type": "code",
      "metadata": {
        "id": "RAg55hWVcto-"
      },
      "source": [
        "pyro.set_rng_seed(10)"
      ],
      "execution_count": 3,
      "outputs": []
    },
    {
      "cell_type": "markdown",
      "metadata": {
        "id": "17Bedsl6cxPp"
      },
      "source": [
        "### データの準備"
      ]
    },
    {
      "cell_type": "code",
      "metadata": {
        "id": "_Fv1tf_VctlM"
      },
      "source": [
        "def setup_data_loaders(batch_size=128, use_cuda=False):\n",
        "    root = \"./data\"\n",
        "    download=True\n",
        "    trans = transforms.ToTensor()\n",
        "    train_set = MNIST(root=root, train=True, transform=trans, download=download)\n",
        "    test_set = MNIST(root=root, train=False, transform=trans)\n",
        "    kwargs = {\"num_workers\": 2, \"pin_memory\":use_cuda}\n",
        "    train_loader = torch.utils.data.DataLoader(dataset=train_set, batch_size=batch_size, shuffle=True, **kwargs)\n",
        "    test_loader = torch.utils.data.DataLoader(dataset=test_set, batch_size=batch_size, shuffle=False, **kwargs)\n",
        "    return train_loader, test_loader"
      ],
      "execution_count": 4,
      "outputs": []
    },
    {
      "cell_type": "markdown",
      "metadata": {
        "id": "44_FZCbcc06S"
      },
      "source": [
        "### モデル"
      ]
    },
    {
      "cell_type": "code",
      "metadata": {
        "id": "ZN6bYwypctf8"
      },
      "source": [
        "class Decoder(nn.Module):\n",
        "    def __init__(self, z_dim, hidden_dim):\n",
        "        super().__init__()\n",
        "        # 全結合層\n",
        "        self.fc1 = nn.Linear(z_dim, hidden_dim)\n",
        "        self.fc2 = nn.Linear(hidden_dim, 784)\n",
        "        # 活性化関数\n",
        "        self.softplus = nn.Softplus()\n",
        "        self.sigmoid = nn.Sigmoid()\n",
        "    def forward(self, x):\n",
        "        hidden = self.softplus(self.fc1(x))\n",
        "        # 各出力がベルヌーイ分布のパラメータになる→大きいほど黒に近くなる\n",
        "        loc_img = self.sigmoid(self.fc2(hidden))\n",
        "        # 画像を出力\n",
        "        return loc_img"
      ],
      "execution_count": 5,
      "outputs": []
    },
    {
      "cell_type": "code",
      "metadata": {
        "id": "pJtOmX3XctY5"
      },
      "source": [
        "class Encoder(nn.Module):\n",
        "    def __init__(self, z_dim, hidden_dim):\n",
        "        super().__init__()\n",
        "        # 入力-中間層間の全結合層\n",
        "        self.fc1 = nn.Linear(784, hidden_dim)\n",
        "        # 中間-出力層間の全結合層\n",
        "        self.fc21 = nn.Linear(hidden_dim, z_dim) # 平均用\n",
        "        self.fc22 = nn.Linear(hidden_dim, z_dim) # 分散用\n",
        "        # 活性化関数の準備\n",
        "        self.softplus = nn.Softplus()\n",
        "    def forward(self, x):\n",
        "        # 入力の次元を修正（28×28=784）\n",
        "        x = x.reshape(-1, 784)\n",
        "        hidden = self.softplus(self.fc1(x))\n",
        "        # 各ピクセル値が従う正規分布の平均、分散を出力\n",
        "        z_loc = self.fc21(hidden)\n",
        "        z_scale = torch.exp(self.fc22(hidden))\n",
        "        return z_loc, z_scale"
      ],
      "execution_count": 6,
      "outputs": []
    },
    {
      "cell_type": "code",
      "metadata": {
        "id": "qbE6hq5kctTf"
      },
      "source": [
        "class VAE(nn.Module):\n",
        "    def __init__(self, z_dim=50, hidden_dim = 400, use_cuda=True):\n",
        "        super().__init__()\n",
        "        self.encoder = Encoder(z_dim, hidden_dim)\n",
        "        self.decoder = Decoder(z_dim, hidden_dim)\n",
        "        if use_cuda:\n",
        "            self.cuda()\n",
        "        self.use_cuda = use_cuda\n",
        "        self.z_dim = z_dim\n",
        "    def model(self, x):\n",
        "        pyro.module(\"decoder\", self.decoder)\n",
        "        with pyro.plate(\"data\", x.shape[0]):\n",
        "            z_loc = x.new_zeros(torch.Size((x.shape[0], self.z_dim)))\n",
        "            z_scale = x.new_ones(torch.Size((x.shape[0], self.z_dim)))\n",
        "            z = pyro.sample(\"latent\", dist.Normal(z_loc, z_scale).to_event(1))\n",
        "            loc_img = self.decoder(z)\n",
        "            pyro.sample(\"obs\", dist.ContinuousBernoulli(loc_img).to_event(1), obs=x.reshape(-1, 784))\n",
        "    def guide(self, x):\n",
        "        pyro.module(\"encoder\", self.encoder)\n",
        "        with pyro.plate(\"data\", x.shape[0]):\n",
        "            z_loc, z_scale = self.encoder(x)\n",
        "            pyro.sample(\"latent\", dist.Normal(z_loc, z_scale).to_event(1))\n",
        "    def reconstruct_img(self, x):\n",
        "        z_loc, z_scale = self.encoder(x)\n",
        "        z = dist.Normal(z_loc, z_scale).sample()\n",
        "        loc_img = self.decoder(z)\n",
        "        return img"
      ],
      "execution_count": 7,
      "outputs": []
    },
    {
      "cell_type": "markdown",
      "metadata": {
        "id": "t7QQ5Kgbc7k1"
      },
      "source": [
        "### 学習"
      ]
    },
    {
      "cell_type": "code",
      "metadata": {
        "id": "YbhrnsIEctPb"
      },
      "source": [
        "# 訓練データによる学習\n",
        "def train(svi, train_loader, use_cuda=True):\n",
        "    epoch_loss = 0\n",
        "    for x,_ in train_loader:\n",
        "        if use_cuda:\n",
        "            x = x.cuda()\n",
        "        epoch_loss += svi.step(x)\n",
        "    normalizer_train = len(train_loader.dataset)\n",
        "    total_epoch_loss_train = epoch_loss/normalizer_train\n",
        "    return total_epoch_loss_train"
      ],
      "execution_count": 8,
      "outputs": []
    },
    {
      "cell_type": "code",
      "metadata": {
        "id": "V_LElCx_dCmC"
      },
      "source": [
        "# テストデータでのELBOの評価\n",
        "def evaluate(svi, test_loader, use_cuda=True):\n",
        "    test_loss = 0\n",
        "    for x,_ in test_loader:\n",
        "        if use_cuda:\n",
        "            x = x.cuda()\n",
        "        test_loss += svi.evaluate_loss(x)\n",
        "    normalizer_test = len(test_loader.dataset)\n",
        "    total_epoch_loss_test = test_loss/normalizer_test\n",
        "    return total_epoch_loss_test"
      ],
      "execution_count": 9,
      "outputs": []
    },
    {
      "cell_type": "code",
      "metadata": {
        "colab": {
          "base_uri": "https://localhost:8080/",
          "height": 1000,
          "referenced_widgets": [
            "3a5229e2fa3b4f6084f84e18dc423dbb",
            "5c8fb4583aaf4f728e171ab6169ba6d8",
            "275c2617642f4f86b674bc57d35a1e6d",
            "1acdf20e12c44aed82136149d4540ebb",
            "6481840092d640d593a47c4e615a36b9",
            "c8607326bd50458d9a49629200703e53",
            "38345ee3f0b445928eaf5af4d8d54f46",
            "f652b73845fc478fa4e2093e116b042c",
            "7e85c8086a1e4d97845c097c9e800644",
            "44377dbf097c45db85c0c742a5ab1f13",
            "3092ec53ec224a02b3bd4af6398591db",
            "e49f180b47554827aa10999b040e68dd",
            "5510f7c47f7746df81ebdc6d33c5bdf1",
            "1b1e032b533647669e4f2f4a701b2b18",
            "520b61f876f440fea9d33ae1b0c96504",
            "a61fab03cccb4825a7d874edad56d612",
            "e7ddcfc1543345dfa6285101be4c5936",
            "d1a445d42b1c4a0982a127ce5e54a940",
            "64e7a23a62b4401d88961b36ab393460",
            "6afb335efc684dc4be15506fac6310f3",
            "6c0cba157dc24a9d869059681274a9c6",
            "6da55ddc54764a28afe3e5168557fa91",
            "26fdef253813408dbfabb35eddf14bf0",
            "325c25446ef843119e12b8dac4e87d5e",
            "dbff1eceb0a747638d5d90f8ffdf490f",
            "97cafde7e26444a2afb9c8824c2b1e7f",
            "1270d09c25954c94a5f482ae3b610529",
            "25e40945694b419f8d9da5f844a5712c",
            "81c64bfae3904ab687503599742f14c4",
            "ee5e1d40a8af4011b524b94e4cf0072b",
            "4757456e0d1847d384183968b32e40df",
            "702efafb4bed4b7fb882bb2650916aeb"
          ]
        },
        "id": "zYfaii60dCeO",
        "outputId": "8020f29f-d066-4ab8-cf9d-d654079dc679"
      },
      "source": [
        "USE_CUDA = True\n",
        "LEARNING_RATE = 1.0e-3\n",
        "NUM_EPOCHS = 100\n",
        "TEST_FREQUENCY = 5\n",
        "train_loader, test_loader = setup_data_loaders(batch_size=256, use_cuda=USE_CUDA)\n",
        "pyro.clear_param_store() #pyroに登録されているパラメータを一旦消し去ります。\n",
        "vae = VAE(use_cuda=USE_CUDA)\n",
        "adam_args = {\"lr\": LEARNING_RATE}\n",
        "optimizer = Adam(adam_args)\n",
        "svi = SVI(vae.model, vae.guide, optimizer, loss=Trace_ELBO())\n",
        "train_elbo = []\n",
        "test_elbo = []\n",
        "for epoch in range(NUM_EPOCHS):\n",
        "    total_epoch_loss_train = train(svi, train_loader, use_cuda=USE_CUDA)\n",
        "    train_elbo.append(-total_epoch_loss_train)\n",
        "    print(\"[epoch %03d] average training loss: %.4f\" %(epoch, total_epoch_loss_train))\n",
        "    if epoch % TEST_FREQUENCY == 0:\n",
        "        total_epoch_loss_test = evaluate(svi, test_loader, use_cuda=USE_CUDA)\n",
        "        test_elbo.append(-total_epoch_loss_test)\n",
        "        print(\"[epoch %03d] average test loss: %.4f\" %(epoch, total_epoch_loss_test))"
      ],
      "execution_count": 10,
      "outputs": [
        {
          "output_type": "stream",
          "text": [
            "Downloading https://d2hg8soec8ck9v.cloudfront.net/datasets/mnist/train-images-idx3-ubyte.gz\n",
            "Downloading https://d2hg8soec8ck9v.cloudfront.net/datasets/mnist/train-images-idx3-ubyte.gz to ./data/MNIST/raw/train-images-idx3-ubyte.gz\n"
          ],
          "name": "stdout"
        },
        {
          "output_type": "display_data",
          "data": {
            "application/vnd.jupyter.widget-view+json": {
              "model_id": "3a5229e2fa3b4f6084f84e18dc423dbb",
              "version_minor": 0,
              "version_major": 2
            },
            "text/plain": [
              "HBox(children=(FloatProgress(value=0.0, max=9912422.0), HTML(value='')))"
            ]
          },
          "metadata": {
            "tags": []
          }
        },
        {
          "output_type": "stream",
          "text": [
            "\n",
            "Extracting ./data/MNIST/raw/train-images-idx3-ubyte.gz to ./data/MNIST/raw\n",
            "\n",
            "Downloading https://d2hg8soec8ck9v.cloudfront.net/datasets/mnist/train-labels-idx1-ubyte.gz\n",
            "Downloading https://d2hg8soec8ck9v.cloudfront.net/datasets/mnist/train-labels-idx1-ubyte.gz to ./data/MNIST/raw/train-labels-idx1-ubyte.gz\n"
          ],
          "name": "stdout"
        },
        {
          "output_type": "display_data",
          "data": {
            "application/vnd.jupyter.widget-view+json": {
              "model_id": "7e85c8086a1e4d97845c097c9e800644",
              "version_minor": 0,
              "version_major": 2
            },
            "text/plain": [
              "HBox(children=(FloatProgress(value=0.0, max=28881.0), HTML(value='')))"
            ]
          },
          "metadata": {
            "tags": []
          }
        },
        {
          "output_type": "stream",
          "text": [
            "\n",
            "Extracting ./data/MNIST/raw/train-labels-idx1-ubyte.gz to ./data/MNIST/raw\n",
            "\n",
            "Downloading https://d2hg8soec8ck9v.cloudfront.net/datasets/mnist/t10k-images-idx3-ubyte.gz\n",
            "Downloading https://d2hg8soec8ck9v.cloudfront.net/datasets/mnist/t10k-images-idx3-ubyte.gz to ./data/MNIST/raw/t10k-images-idx3-ubyte.gz\n"
          ],
          "name": "stdout"
        },
        {
          "output_type": "display_data",
          "data": {
            "application/vnd.jupyter.widget-view+json": {
              "model_id": "e7ddcfc1543345dfa6285101be4c5936",
              "version_minor": 0,
              "version_major": 2
            },
            "text/plain": [
              "HBox(children=(FloatProgress(value=0.0, max=1648877.0), HTML(value='')))"
            ]
          },
          "metadata": {
            "tags": []
          }
        },
        {
          "output_type": "stream",
          "text": [
            "\n",
            "Extracting ./data/MNIST/raw/t10k-images-idx3-ubyte.gz to ./data/MNIST/raw\n",
            "\n",
            "Downloading https://d2hg8soec8ck9v.cloudfront.net/datasets/mnist/t10k-labels-idx1-ubyte.gz\n",
            "Downloading https://d2hg8soec8ck9v.cloudfront.net/datasets/mnist/t10k-labels-idx1-ubyte.gz to ./data/MNIST/raw/t10k-labels-idx1-ubyte.gz\n"
          ],
          "name": "stdout"
        },
        {
          "output_type": "display_data",
          "data": {
            "application/vnd.jupyter.widget-view+json": {
              "model_id": "dbff1eceb0a747638d5d90f8ffdf490f",
              "version_minor": 0,
              "version_major": 2
            },
            "text/plain": [
              "HBox(children=(FloatProgress(value=0.0, max=4542.0), HTML(value='')))"
            ]
          },
          "metadata": {
            "tags": []
          }
        },
        {
          "output_type": "stream",
          "text": [
            "\n",
            "Extracting ./data/MNIST/raw/t10k-labels-idx1-ubyte.gz to ./data/MNIST/raw\n",
            "\n"
          ],
          "name": "stdout"
        },
        {
          "output_type": "stream",
          "text": [
            "/usr/local/lib/python3.7/dist-packages/torchvision/datasets/mnist.py:498: UserWarning: The given NumPy array is not writeable, and PyTorch does not support non-writeable tensors. This means you can write to the underlying (supposedly non-writeable) NumPy array using the tensor. You may want to copy the array to protect its data or make it writeable before converting it to a tensor. This type of warning will be suppressed for the rest of this program. (Triggered internally at  /pytorch/torch/csrc/utils/tensor_numpy.cpp:180.)\n",
            "  return torch.from_numpy(parsed.astype(m[2], copy=False)).view(*s)\n"
          ],
          "name": "stderr"
        },
        {
          "output_type": "stream",
          "text": [
            "[epoch 000] average training loss: -1309.1092\n",
            "[epoch 000] average test loss: -1491.4668\n",
            "[epoch 001] average training loss: -1564.3515\n",
            "[epoch 002] average training loss: -1651.9781\n",
            "[epoch 003] average training loss: -1699.1390\n",
            "[epoch 004] average training loss: -1729.5980\n",
            "[epoch 005] average training loss: -1753.5958\n",
            "[epoch 005] average test loss: -1767.5297\n",
            "[epoch 006] average training loss: -1769.6990\n",
            "[epoch 007] average training loss: -1781.1739\n",
            "[epoch 008] average training loss: -1790.0719\n",
            "[epoch 009] average training loss: -1797.2005\n",
            "[epoch 010] average training loss: -1802.9566\n",
            "[epoch 010] average test loss: -1808.7515\n",
            "[epoch 011] average training loss: -1807.8847\n",
            "[epoch 012] average training loss: -1811.9391\n",
            "[epoch 013] average training loss: -1815.4741\n",
            "[epoch 014] average training loss: -1818.5410\n",
            "[epoch 015] average training loss: -1821.2268\n",
            "[epoch 015] average test loss: -1824.9259\n",
            "[epoch 016] average training loss: -1823.5791\n",
            "[epoch 017] average training loss: -1825.6770\n",
            "[epoch 018] average training loss: -1827.5165\n",
            "[epoch 019] average training loss: -1829.1689\n",
            "[epoch 020] average training loss: -1830.6092\n",
            "[epoch 020] average test loss: -1832.6639\n",
            "[epoch 021] average training loss: -1831.8537\n",
            "[epoch 022] average training loss: -1833.0182\n",
            "[epoch 023] average training loss: -1834.0092\n",
            "[epoch 024] average training loss: -1835.0504\n",
            "[epoch 025] average training loss: -1835.8140\n",
            "[epoch 025] average test loss: -1837.8499\n",
            "[epoch 026] average training loss: -1836.6552\n",
            "[epoch 027] average training loss: -1837.2522\n",
            "[epoch 028] average training loss: -1837.9737\n",
            "[epoch 029] average training loss: -1838.4476\n",
            "[epoch 030] average training loss: -1839.0883\n",
            "[epoch 030] average test loss: -1839.6767\n",
            "[epoch 031] average training loss: -1839.6779\n",
            "[epoch 032] average training loss: -1840.0643\n",
            "[epoch 033] average training loss: -1840.4562\n",
            "[epoch 034] average training loss: -1840.8608\n",
            "[epoch 035] average training loss: -1841.4060\n",
            "[epoch 035] average test loss: -1842.5854\n",
            "[epoch 036] average training loss: -1841.7133\n",
            "[epoch 037] average training loss: -1842.0783\n",
            "[epoch 038] average training loss: -1842.2311\n",
            "[epoch 039] average training loss: -1842.6379\n",
            "[epoch 040] average training loss: -1842.9652\n",
            "[epoch 040] average test loss: -1843.4710\n",
            "[epoch 041] average training loss: -1843.1730\n",
            "[epoch 042] average training loss: -1843.4862\n",
            "[epoch 043] average training loss: -1843.7397\n",
            "[epoch 044] average training loss: -1843.9838\n",
            "[epoch 045] average training loss: -1844.1405\n",
            "[epoch 045] average test loss: -1844.6770\n",
            "[epoch 046] average training loss: -1844.3594\n",
            "[epoch 047] average training loss: -1844.5951\n",
            "[epoch 048] average training loss: -1844.7909\n",
            "[epoch 049] average training loss: -1844.9372\n",
            "[epoch 050] average training loss: -1845.1929\n",
            "[epoch 050] average test loss: -1845.4384\n",
            "[epoch 051] average training loss: -1845.3600\n",
            "[epoch 052] average training loss: -1845.5247\n",
            "[epoch 053] average training loss: -1845.7844\n",
            "[epoch 054] average training loss: -1845.8446\n",
            "[epoch 055] average training loss: -1846.0713\n",
            "[epoch 055] average test loss: -1846.0543\n",
            "[epoch 056] average training loss: -1846.2435\n",
            "[epoch 057] average training loss: -1846.4030\n",
            "[epoch 058] average training loss: -1846.4695\n",
            "[epoch 059] average training loss: -1846.6005\n",
            "[epoch 060] average training loss: -1846.7481\n",
            "[epoch 060] average test loss: -1846.6956\n",
            "[epoch 061] average training loss: -1846.8941\n",
            "[epoch 062] average training loss: -1846.9536\n",
            "[epoch 063] average training loss: -1847.1375\n",
            "[epoch 064] average training loss: -1847.2164\n",
            "[epoch 065] average training loss: -1847.4470\n",
            "[epoch 065] average test loss: -1847.2637\n",
            "[epoch 066] average training loss: -1847.4894\n",
            "[epoch 067] average training loss: -1847.6036\n",
            "[epoch 068] average training loss: -1847.7269\n",
            "[epoch 069] average training loss: -1847.8325\n",
            "[epoch 070] average training loss: -1847.9438\n",
            "[epoch 070] average test loss: -1846.8030\n",
            "[epoch 071] average training loss: -1847.9651\n",
            "[epoch 072] average training loss: -1848.0102\n",
            "[epoch 073] average training loss: -1848.1875\n",
            "[epoch 074] average training loss: -1848.2739\n",
            "[epoch 075] average training loss: -1848.4419\n",
            "[epoch 075] average test loss: -1848.1688\n",
            "[epoch 076] average training loss: -1848.4502\n",
            "[epoch 077] average training loss: -1848.5976\n",
            "[epoch 078] average training loss: -1848.6387\n",
            "[epoch 079] average training loss: -1848.7188\n",
            "[epoch 080] average training loss: -1848.7885\n",
            "[epoch 080] average test loss: -1848.3358\n",
            "[epoch 081] average training loss: -1848.8678\n",
            "[epoch 082] average training loss: -1848.9773\n",
            "[epoch 083] average training loss: -1849.0028\n",
            "[epoch 084] average training loss: -1849.1916\n",
            "[epoch 085] average training loss: -1849.1929\n",
            "[epoch 085] average test loss: -1848.7154\n",
            "[epoch 086] average training loss: -1849.2845\n",
            "[epoch 087] average training loss: -1849.4164\n",
            "[epoch 088] average training loss: -1849.4545\n",
            "[epoch 089] average training loss: -1849.4918\n",
            "[epoch 090] average training loss: -1849.5881\n",
            "[epoch 090] average test loss: -1848.2690\n",
            "[epoch 091] average training loss: -1849.5920\n",
            "[epoch 092] average training loss: -1849.7024\n",
            "[epoch 093] average training loss: -1849.7043\n",
            "[epoch 094] average training loss: -1849.8600\n",
            "[epoch 095] average training loss: -1849.9065\n",
            "[epoch 095] average test loss: -1849.2274\n",
            "[epoch 096] average training loss: -1849.9406\n",
            "[epoch 097] average training loss: -1850.0261\n",
            "[epoch 098] average training loss: -1850.0160\n",
            "[epoch 099] average training loss: -1850.1394\n"
          ],
          "name": "stdout"
        }
      ]
    },
    {
      "cell_type": "markdown",
      "metadata": {
        "id": "iXnQikcjdJNn"
      },
      "source": [
        "### 可視化"
      ]
    },
    {
      "cell_type": "code",
      "metadata": {
        "colab": {
          "base_uri": "https://localhost:8080/",
          "height": 265
        },
        "id": "HjfV1jPRdCZy",
        "outputId": "921a1d3f-3153-4d24-d370-6ae2adfaf424"
      },
      "source": [
        "import matplotlib.pyplot as plt\n",
        "plt.plot(train_elbo[::5],\"-.\")\n",
        "plt.show()"
      ],
      "execution_count": 11,
      "outputs": [
        {
          "output_type": "display_data",
          "data": {
            "image/png": "[encoded data removed]",
            "text/plain": [
              "<Figure size 432x288 with 1 Axes>"
            ]
          },
          "metadata": {
            "tags": [],
            "needs_background": "light"
          }
        }
      ]
    },
    {
      "cell_type": "code",
      "metadata": {
        "colab": {
          "base_uri": "https://localhost:8080/",
          "height": 516
        },
        "id": "QIE_APVRctLe",
        "outputId": "0cf3f400-1ce7-48b0-d280-9f0b00ccb05d"
      },
      "source": [
        "fig, ax = plt.subplots(nrows = 3, ncols=5, figsize=(20,12))\n",
        "for r in range(3):\n",
        "    for c in range(5):\n",
        "        ax[r,c].imshow(vae.decoder(torch.randn(50).cuda()).detach().cpu().numpy().reshape(28,28))"
      ],
      "execution_count": 12,
      "outputs": [
        {
          "output_type": "display_data",
          "data": {
            "image/png": "[encoded data removed]",
            "text/plain": [
              "<Figure size 1440x864 with 15 Axes>"
            ]
          },
          "metadata": {
            "tags": [],
            "needs_background": "light"
          }
        }
      ]
    }
  ]
}